{
 "cells": [
  {
   "cell_type": "markdown",
   "metadata": {
    "colab_type": "text",
    "id": "6C92xRVEL7_b"
   },
   "source": [
    "# NumPy [[link]](https://scipy-lectures.org/intro/numpy/index.html)\n",
    "--- \n",
    "- - -\n",
    "### 1. The NumPy array object [link](#1.-The-NumPy-array-object)\n",
    "\n",
    "##### &emsp;&emsp;1 - 1. What are NumPy and NumPy arrays?\n",
    "##### &emsp;&emsp;1 - 2. Creating arrays\n",
    "##### &emsp;&emsp;1 - 3. Basic data types\n",
    "##### &emsp;&emsp;1 - 4. Basic visualization\n",
    "##### &emsp;&emsp;1 - 5. Indexing and slicing\n",
    "##### &emsp;&emsp;1 - 6. Copies and views\n",
    "##### &emsp;&emsp;1 - 7. Fancy indexing\n",
    "---\n",
    "### 2. Numerical operations on arrays [link](#2.-Numerical-operations-on-arrays)\n",
    "\n",
    "##### &emsp;&emsp;2 - 1. Elementwise operations\n",
    "##### &emsp;&emsp;2 - 2. Basic reductions\n",
    "##### &emsp;&emsp;2 - 3. Broadcasting\n",
    "##### &emsp;&emsp;2 - 4. Array shape manipulation\n",
    "##### &emsp;&emsp;2 - 5. Sorting data\n",
    "---\n",
    "### 3. More elaborate arrays [link](#3.-More-elaborate-arrays)\n",
    "\n",
    "##### &emsp;&emsp;3 - 1. More data types\n",
    "##### &emsp;&emsp;3 - 2. Structured data types\n",
    "---\n",
    "### 4. Advanced operations [link](#4.-Advanced-operations)\n",
    "##### &emsp;&emsp;4 - 1. Polynomials\n",
    "##### &emsp;&emsp;4 - 2. Loading data files\n",
    "---"
   ]
  },
  {
   "cell_type": "markdown",
   "metadata": {
    "colab_type": "text",
    "id": "a3bhqARML7_f"
   },
   "source": [
    "## 1. The NumPy array object\n",
    "- __1 - 1. What are NumPy and NumPy arrays?__ [link](#1---1.-What-are-NumPy-and-NumPy-arrays?)\n",
    "- __1 - 2. Creating arrays__ [link](#1---2.-Creating-arrays)\n",
    "- __1 - 3. Basic data types__ [link](#1---3.-Basic-data-types)\n",
    "- __1 - 4. Basic visualization__ [link](#1---4.-Basic-visualization)\n",
    "- __1 - 5. Indexing and slicing__ [link](#1---5.-Indexing-and-slicing)\n",
    "- __1 - 6. Copies and views__ [link](#1---6.-Copies-and-views)\n",
    "- __1 - 7. Fancy indexing__ [link](#1---7.-Fancy-indexing)"
   ]
  },
  {
   "cell_type": "markdown",
   "metadata": {
    "colab_type": "text",
    "id": "dNNTfrSHL7_g"
   },
   "source": [
    "### 1 - 1. What are NumPy and NumPy arrays?\n",
    "\n",
    "- __NumPy arrays__\n",
    "- __NumPy Reference documentation__\n",
    "- __Import conventions__"
   ]
  },
  {
   "cell_type": "markdown",
   "metadata": {
    "colab_type": "text",
    "id": "-9ULy8p4L7_h"
   },
   "source": [
    "- #### NumPy arrays\n",
    "\n",
    "&emsp;&emsp;NumPy는<br>\n",
    "&emsp;&emsp; - 다차원 배열을 위한 Python 패키지 제공<br>\n",
    "&emsp;&emsp; - 과학적 계산을 위한 설계<br>\n",
    "&emsp;&emsp; - 배열 지향 컴퓨팅<br>\n",
    "\n",
    "```python\n",
    "import numpy as np\n",
    "\n",
    "a = np.array([0, 1, 2, 3])\n",
    "print(a, type(a))\n",
    "```\n"
   ]
  },
  {
   "cell_type": "code",
   "execution_count": 1,
   "metadata": {
    "colab": {},
    "colab_type": "code",
    "id": "OhPShgavL7_j",
    "outputId": "272f03f6-72c0-46aa-95f3-3c4af74231fa"
   },
   "outputs": [
    {
     "name": "stdout",
     "output_type": "stream",
     "text": [
      "[0 1 2 3] <class 'numpy.ndarray'>\n"
     ]
    }
   ],
   "source": [
    "import numpy as np\n",
    "\n",
    "a = np.array([0, 1, 2, 3])\n",
    "print(a, type(a))"
   ]
  },
  {
   "cell_type": "markdown",
   "metadata": {
    "colab_type": "text",
    "id": "sbfbvMvtL7_p"
   },
   "source": [
    "- #### NumPy Reference documentation\n",
    "\n",
    "&emsp;&emsp;NumPy에 대한 reference 정보는 [웹사이트](http://docs.scipy.org/)에 있습니다.<br>\n",
    "&emsp;&emsp;또한, ?를 이용해 해당 메소드의 정보를 확인 할 수 있습니다. (단, Jupyter Notebook에서는 좀 더 보기 편하게 나옵니다.)\n",
    "\n",
    "```python\n",
    "np.array?\n",
    "```\n",
    "&emsp;&emsp;help()를 이용한 방법도 있는데 해당 방법은 Jupyter Notebook의 셀 안에 출력이 됩니다.\n",
    "```python\n",
    "help(np.array)\n",
    "```"
   ]
  },
  {
   "cell_type": "code",
   "execution_count": 2,
   "metadata": {
    "colab": {},
    "colab_type": "code",
    "id": "noAexV4EL7_q",
    "scrolled": true
   },
   "outputs": [
    {
     "data": {
      "text/plain": [
       "\u001b[1;31mDocstring:\u001b[0m\n",
       "array(object, dtype=None, *, copy=True, order='K', subok=False, ndmin=0)\n",
       "\n",
       "Create an array.\n",
       "\n",
       "Parameters\n",
       "----------\n",
       "object : array_like\n",
       "    An array, any object exposing the array interface, an object whose\n",
       "    __array__ method returns an array, or any (nested) sequence.\n",
       "dtype : data-type, optional\n",
       "    The desired data-type for the array.  If not given, then the type will\n",
       "    be determined as the minimum type required to hold the objects in the\n",
       "    sequence.\n",
       "copy : bool, optional\n",
       "    If true (default), then the object is copied.  Otherwise, a copy will\n",
       "    only be made if __array__ returns a copy, if obj is a nested sequence,\n",
       "    or if a copy is needed to satisfy any of the other requirements\n",
       "    (`dtype`, `order`, etc.).\n",
       "order : {'K', 'A', 'C', 'F'}, optional\n",
       "    Specify the memory layout of the array. If object is not an array, the\n",
       "    newly created array will be in C order (row major) unless 'F' is\n",
       "    specified, in which case it will be in Fortran order (column major).\n",
       "    If object is an array the following holds.\n",
       "\n",
       "    ===== ========= ===================================================\n",
       "    order  no copy                     copy=True\n",
       "    ===== ========= ===================================================\n",
       "    'K'   unchanged F & C order preserved, otherwise most similar order\n",
       "    'A'   unchanged F order if input is F and not C, otherwise C order\n",
       "    'C'   C order   C order\n",
       "    'F'   F order   F order\n",
       "    ===== ========= ===================================================\n",
       "\n",
       "    When ``copy=False`` and a copy is made for other reasons, the result is\n",
       "    the same as if ``copy=True``, with some exceptions for `A`, see the\n",
       "    Notes section. The default order is 'K'.\n",
       "subok : bool, optional\n",
       "    If True, then sub-classes will be passed-through, otherwise\n",
       "    the returned array will be forced to be a base-class array (default).\n",
       "ndmin : int, optional\n",
       "    Specifies the minimum number of dimensions that the resulting\n",
       "    array should have.  Ones will be pre-pended to the shape as\n",
       "    needed to meet this requirement.\n",
       "\n",
       "Returns\n",
       "-------\n",
       "out : ndarray\n",
       "    An array object satisfying the specified requirements.\n",
       "\n",
       "See Also\n",
       "--------\n",
       "empty_like : Return an empty array with shape and type of input.\n",
       "ones_like : Return an array of ones with shape and type of input.\n",
       "zeros_like : Return an array of zeros with shape and type of input.\n",
       "full_like : Return a new array with shape of input filled with value.\n",
       "empty : Return a new uninitialized array.\n",
       "ones : Return a new array setting values to one.\n",
       "zeros : Return a new array setting values to zero.\n",
       "full : Return a new array of given shape filled with value.\n",
       "\n",
       "\n",
       "Notes\n",
       "-----\n",
       "When order is 'A' and `object` is an array in neither 'C' nor 'F' order,\n",
       "and a copy is forced by a change in dtype, then the order of the result is\n",
       "not necessarily 'C' as expected. This is likely a bug.\n",
       "\n",
       "Examples\n",
       "--------\n",
       ">>> np.array([1, 2, 3])\n",
       "array([1, 2, 3])\n",
       "\n",
       "Upcasting:\n",
       "\n",
       ">>> np.array([1, 2, 3.0])\n",
       "array([ 1.,  2.,  3.])\n",
       "\n",
       "More than one dimension:\n",
       "\n",
       ">>> np.array([[1, 2], [3, 4]])\n",
       "array([[1, 2],\n",
       "       [3, 4]])\n",
       "\n",
       "Minimum dimensions 2:\n",
       "\n",
       ">>> np.array([1, 2, 3], ndmin=2)\n",
       "array([[1, 2, 3]])\n",
       "\n",
       "Type provided:\n",
       "\n",
       ">>> np.array([1, 2, 3], dtype=complex)\n",
       "array([ 1.+0.j,  2.+0.j,  3.+0.j])\n",
       "\n",
       "Data-type consisting of more than one element:\n",
       "\n",
       ">>> x = np.array([(1,2),(3,4)],dtype=[('a','<i4'),('b','<i4')])\n",
       ">>> x['a']\n",
       "array([1, 3])\n",
       "\n",
       "Creating an array from sub-classes:\n",
       "\n",
       ">>> np.array(np.mat('1 2; 3 4'))\n",
       "array([[1, 2],\n",
       "       [3, 4]])\n",
       "\n",
       ">>> np.array(np.mat('1 2; 3 4'), subok=True)\n",
       "matrix([[1, 2],\n",
       "        [3, 4]])\n",
       "\u001b[1;31mType:\u001b[0m      builtin_function_or_method\n"
      ]
     },
     "metadata": {},
     "output_type": "display_data"
    }
   ],
   "source": [
    "np.array?"
   ]
  },
  {
   "cell_type": "code",
   "execution_count": 3,
   "metadata": {
    "colab": {},
    "colab_type": "code",
    "id": "6I8FV8BML7_u",
    "outputId": "6ab523c0-76b9-46db-c972-516e0ac97cfb"
   },
   "outputs": [
    {
     "name": "stdout",
     "output_type": "stream",
     "text": [
      "Help on built-in function array in module numpy:\n",
      "\n",
      "array(...)\n",
      "    array(object, dtype=None, *, copy=True, order='K', subok=False, ndmin=0)\n",
      "    \n",
      "    Create an array.\n",
      "    \n",
      "    Parameters\n",
      "    ----------\n",
      "    object : array_like\n",
      "        An array, any object exposing the array interface, an object whose\n",
      "        __array__ method returns an array, or any (nested) sequence.\n",
      "    dtype : data-type, optional\n",
      "        The desired data-type for the array.  If not given, then the type will\n",
      "        be determined as the minimum type required to hold the objects in the\n",
      "        sequence.\n",
      "    copy : bool, optional\n",
      "        If true (default), then the object is copied.  Otherwise, a copy will\n",
      "        only be made if __array__ returns a copy, if obj is a nested sequence,\n",
      "        or if a copy is needed to satisfy any of the other requirements\n",
      "        (`dtype`, `order`, etc.).\n",
      "    order : {'K', 'A', 'C', 'F'}, optional\n",
      "        Specify the memory layout of the array. If object is not an array, the\n",
      "        newly created array will be in C order (row major) unless 'F' is\n",
      "        specified, in which case it will be in Fortran order (column major).\n",
      "        If object is an array the following holds.\n",
      "    \n",
      "        ===== ========= ===================================================\n",
      "        order  no copy                     copy=True\n",
      "        ===== ========= ===================================================\n",
      "        'K'   unchanged F & C order preserved, otherwise most similar order\n",
      "        'A'   unchanged F order if input is F and not C, otherwise C order\n",
      "        'C'   C order   C order\n",
      "        'F'   F order   F order\n",
      "        ===== ========= ===================================================\n",
      "    \n",
      "        When ``copy=False`` and a copy is made for other reasons, the result is\n",
      "        the same as if ``copy=True``, with some exceptions for `A`, see the\n",
      "        Notes section. The default order is 'K'.\n",
      "    subok : bool, optional\n",
      "        If True, then sub-classes will be passed-through, otherwise\n",
      "        the returned array will be forced to be a base-class array (default).\n",
      "    ndmin : int, optional\n",
      "        Specifies the minimum number of dimensions that the resulting\n",
      "        array should have.  Ones will be pre-pended to the shape as\n",
      "        needed to meet this requirement.\n",
      "    \n",
      "    Returns\n",
      "    -------\n",
      "    out : ndarray\n",
      "        An array object satisfying the specified requirements.\n",
      "    \n",
      "    See Also\n",
      "    --------\n",
      "    empty_like : Return an empty array with shape and type of input.\n",
      "    ones_like : Return an array of ones with shape and type of input.\n",
      "    zeros_like : Return an array of zeros with shape and type of input.\n",
      "    full_like : Return a new array with shape of input filled with value.\n",
      "    empty : Return a new uninitialized array.\n",
      "    ones : Return a new array setting values to one.\n",
      "    zeros : Return a new array setting values to zero.\n",
      "    full : Return a new array of given shape filled with value.\n",
      "    \n",
      "    \n",
      "    Notes\n",
      "    -----\n",
      "    When order is 'A' and `object` is an array in neither 'C' nor 'F' order,\n",
      "    and a copy is forced by a change in dtype, then the order of the result is\n",
      "    not necessarily 'C' as expected. This is likely a bug.\n",
      "    \n",
      "    Examples\n",
      "    --------\n",
      "    >>> np.array([1, 2, 3])\n",
      "    array([1, 2, 3])\n",
      "    \n",
      "    Upcasting:\n",
      "    \n",
      "    >>> np.array([1, 2, 3.0])\n",
      "    array([ 1.,  2.,  3.])\n",
      "    \n",
      "    More than one dimension:\n",
      "    \n",
      "    >>> np.array([[1, 2], [3, 4]])\n",
      "    array([[1, 2],\n",
      "           [3, 4]])\n",
      "    \n",
      "    Minimum dimensions 2:\n",
      "    \n",
      "    >>> np.array([1, 2, 3], ndmin=2)\n",
      "    array([[1, 2, 3]])\n",
      "    \n",
      "    Type provided:\n",
      "    \n",
      "    >>> np.array([1, 2, 3], dtype=complex)\n",
      "    array([ 1.+0.j,  2.+0.j,  3.+0.j])\n",
      "    \n",
      "    Data-type consisting of more than one element:\n",
      "    \n",
      "    >>> x = np.array([(1,2),(3,4)],dtype=[('a','<i4'),('b','<i4')])\n",
      "    >>> x['a']\n",
      "    array([1, 3])\n",
      "    \n",
      "    Creating an array from sub-classes:\n",
      "    \n",
      "    >>> np.array(np.mat('1 2; 3 4'))\n",
      "    array([[1, 2],\n",
      "           [3, 4]])\n",
      "    \n",
      "    >>> np.array(np.mat('1 2; 3 4'), subok=True)\n",
      "    matrix([[1, 2],\n",
      "            [3, 4]])\n",
      "\n"
     ]
    }
   ],
   "source": [
    "help(np.array)"
   ]
  },
  {
   "cell_type": "markdown",
   "metadata": {
    "colab_type": "text",
    "id": "t_Lr1ITtL7_z"
   },
   "source": [
    "&emsp;&emsp;메소드를 찾을수도 있습니다.<br>\n",
    "\n",
    "&emsp;&emsp;*?를 이용해서 비슷한 메소드명을 검색합니다.\n",
    "```python\n",
    "np.con*?\n",
    "```\n",
    "\n",
    "&emsp;&emsp;.lookfor()메소드를 이용해 해당 키워드와 관련된 메소드를 찾아줍니다.\n",
    "```python\n",
    "np.lookfor('create array')\n",
    "```"
   ]
  },
  {
   "cell_type": "code",
   "execution_count": 4,
   "metadata": {
    "colab": {},
    "colab_type": "code",
    "id": "d5qWrdxRL7_0"
   },
   "outputs": [
    {
     "data": {
      "text/plain": [
       "np.concatenate\n",
       "np.conj\n",
       "np.conjugate\n",
       "np.convolve"
      ]
     },
     "metadata": {},
     "output_type": "display_data"
    }
   ],
   "source": [
    "np.con*?"
   ]
  },
  {
   "cell_type": "code",
   "execution_count": 5,
   "metadata": {
    "colab": {},
    "colab_type": "code",
    "id": "uOHN3CxuL8Ae",
    "outputId": "c41fbc91-9579-4a24-f43f-796bd6542d2e"
   },
   "outputs": [
    {
     "name": "stdout",
     "output_type": "stream",
     "text": [
      "Search results for 'create array'\n",
      "---------------------------------\n",
      "numpy.array\n",
      "    Create an array.\n",
      "numpy.memmap\n",
      "    Create a memory-map to an array stored in a *binary* file on disk.\n",
      "numpy.diagflat\n",
      "    Create a two-dimensional array with the flattened input as a diagonal.\n",
      "numpy.fromiter\n",
      "    Create a new 1-dimensional array from an iterable object.\n",
      "numpy.partition\n",
      "    Return a partitioned copy of an array.\n",
      "numpy.ctypeslib.as_array\n",
      "    Create a numpy array from a ctypes array or POINTER.\n",
      "numpy.ma.diagflat\n",
      "    Create a two-dimensional array with the flattened input as a diagonal.\n",
      "numpy.ma.make_mask\n",
      "    Create a boolean mask from an array.\n",
      "numpy.lib.Arrayterator\n",
      "    Buffered iterator for big arrays.\n",
      "numpy.ctypeslib.as_ctypes\n",
      "    Create and return a ctypes object from a numpy array.  Actually\n",
      "numpy.ma.mrecords.fromarrays\n",
      "    Creates a mrecarray from a (flat) list of masked arrays.\n",
      "numpy.ma.mvoid.__new__\n",
      "    Create a new masked array from scratch.\n",
      "numpy.ma.MaskedArray.__new__\n",
      "    Create a new masked array from scratch.\n",
      "numpy.ma.mrecords.fromtextfile\n",
      "    Creates a mrecarray from data stored in the file `filename`.\n",
      "numpy.asarray\n",
      "    Convert the input to an array.\n",
      "numpy.ndarray\n",
      "    ndarray(shape, dtype=float, buffer=None, offset=0,\n",
      "numpy.recarray\n",
      "    Construct an ndarray that allows field access using attributes.\n",
      "numpy.chararray\n",
      "    chararray(shape, itemsize=1, unicode=False, buffer=None, offset=0,\n",
      "numpy.exp\n",
      "    Calculate the exponential of all elements in the input array.\n",
      "numpy.pad\n",
      "    Pad an array.\n",
      "numpy.asanyarray\n",
      "    Convert the input to an ndarray, but pass ndarray subclasses through.\n",
      "numpy.cbrt\n",
      "    Return the cube-root of an array, element-wise.\n",
      "numpy.copy\n",
      "    Return an array copy of the given object.\n",
      "numpy.diag\n",
      "    Extract a diagonal or construct a diagonal array.\n",
      "numpy.exp2\n",
      "    Calculate `2**p` for all `p` in the input array.\n",
      "numpy.fmax\n",
      "    Element-wise maximum of array elements.\n",
      "numpy.fmin\n",
      "    Element-wise minimum of array elements.\n",
      "numpy.load\n",
      "    Load arrays or pickled objects from ``.npy``, ``.npz`` or pickled files.\n",
      "numpy.modf\n",
      "    Return the fractional and integral parts of an array, element-wise.\n",
      "numpy.rint\n",
      "    Round elements of the array to the nearest integer.\n",
      "numpy.sort\n",
      "    Return a sorted copy of an array.\n",
      "numpy.sqrt\n",
      "    Return the non-negative square-root of an array, element-wise.\n",
      "numpy.array_equiv\n",
      "    Returns True if input arrays are shape consistent and all elements equal.\n",
      "numpy.dtype\n",
      "    Create a data type object.\n",
      "numpy.expm1\n",
      "    Calculate ``exp(x) - 1`` for all elements in the array.\n",
      "numpy.isnan\n",
      "    Test element-wise for NaN and return result as a boolean array.\n",
      "numpy.isnat\n",
      "    Test element-wise for NaT (not a time) and return result as a boolean array.\n",
      "numpy.log10\n",
      "    Return the base 10 logarithm of the input array, element-wise.\n",
      "numpy.log1p\n",
      "    Return the natural logarithm of one plus the input array, element-wise.\n",
      "numpy.power\n",
      "    First array elements raised to powers from second array, element-wise.\n",
      "numpy.ufunc\n",
      "    Functions that operate element by element on whole arrays.\n",
      "numpy.choose\n",
      "    Construct an array from an index array and a set of arrays to choose from.\n",
      "numpy.nditer\n",
      "    Efficient multi-dimensional iterator object to iterate over arrays.\n",
      "numpy.maximum\n",
      "    Element-wise maximum of array elements.\n",
      "numpy.minimum\n",
      "    Element-wise minimum of array elements.\n",
      "numpy.swapaxes\n",
      "    Interchange two axes of an array.\n",
      "numpy.full_like\n",
      "    Return a full array with the same shape and type as a given array.\n",
      "numpy.ones_like\n",
      "    Return an array of ones with the same shape and type as a given array.\n",
      "numpy.bitwise_or\n",
      "    Compute the bit-wise OR of two arrays element-wise.\n",
      "numpy.empty_like\n",
      "    Return a new array with the same shape and type as a given array.\n",
      "numpy.zeros_like\n",
      "    Return an array of zeros with the same shape and type as a given array.\n",
      "numpy.asarray_chkfinite\n",
      "    Convert the input to an array, checking for NaNs or Infs.\n",
      "numpy.bitwise_and\n",
      "    Compute the bit-wise AND of two arrays element-wise.\n",
      "numpy.bitwise_xor\n",
      "    Compute the bit-wise XOR of two arrays element-wise.\n",
      "numpy.float_power\n",
      "    First array elements raised to powers from second array, element-wise.\n",
      "numpy.ma.exp\n",
      "    Calculate the exponential of all elements in the input array.\n",
      "numpy.diag_indices\n",
      "    Return the indices to access the main diagonal of an array.\n",
      "numpy.nested_iters\n",
      "    Create nditers for use in nested loops\n",
      "numpy.ma.sqrt\n",
      "    Return the non-negative square-root of an array, element-wise.\n",
      "numpy.ma.log10\n",
      "    Return the base 10 logarithm of the input array, element-wise.\n",
      "numpy.chararray.tolist\n",
      "    a.tolist()\n",
      "numpy.put_along_axis\n",
      "    Put values into the destination array by matching 1d index and data slices.\n",
      "numpy.ma.choose\n",
      "    Use an index array to construct a new array from a set of choices.\n",
      "numpy.ma.maximum\n",
      "    Element-wise maximum of array elements.\n",
      "numpy.ma.minimum\n",
      "    Element-wise minimum of array elements.\n",
      "numpy.ma.mrecords.MaskedRecords.__new__\n",
      "    Create a new masked array from scratch.\n",
      "numpy.savez_compressed\n",
      "    Save several arrays into a single file in compressed ``.npz`` format.\n",
      "numpy.matlib.rand\n",
      "    Return a matrix of random values with given shape.\n",
      "numpy.datetime_as_string\n",
      "    Convert an array of datetimes into an array of strings.\n",
      "numpy.ma.bitwise_or\n",
      "    Compute the bit-wise OR of two arrays element-wise.\n",
      "numpy.ma.bitwise_and\n",
      "    Compute the bit-wise AND of two arrays element-wise.\n",
      "numpy.ma.bitwise_xor\n",
      "    Compute the bit-wise XOR of two arrays element-wise.\n",
      "numpy.ma.make_mask_none\n",
      "    Return a boolean mask of the given shape, filled with False.\n",
      "numpy.ma.tests.test_subclassing.MSubArray.__new__\n",
      "    Create a new masked array from scratch.\n",
      "numpy.core._multiarray_umath.clip\n",
      "    Clip (limit) the values in an array.\n",
      "numpy.core.tests.test_overrides._new_duck_type_and_implements\n",
      "    Create a duck array type and implements functions.\n",
      "numpy.ma.tests.test_subclassing.SubMaskedArray.__new__\n",
      "    Create a new masked array from scratch.\n",
      "numpy.ma.mrecords.fromrecords\n",
      "    Creates a MaskedRecords from a list of records.\n",
      "numpy.core._multiarray_umath.empty_like\n",
      "    Return a new array with the same shape and type as a given array.\n",
      "numpy.f2py.tests.test_array_from_pyobj.Array.has_shared_memory\n",
      "    Check that created array shares data with input array.\n",
      "numpy.core._dtype._construction_repr\n",
      "    Creates a string repr of the dtype, excluding the 'dtype()' part\n",
      "numpy.abs\n",
      "    Calculate the absolute value element-wise.\n",
      "numpy.add\n",
      "    Add arguments element-wise.\n",
      "numpy.cos\n",
      "    Cosine element-wise.\n",
      "numpy.log\n",
      "    Natural logarithm, element-wise.\n",
      "numpy.mod\n",
      "    Return element-wise remainder of division.\n",
      "numpy.lib.recfunctions.require_fields\n",
      "    Casts a structured array to a new dtype using assignment by field-name.\n",
      "numpy.sin\n",
      "    Trigonometric sine, element-wise.\n",
      "numpy.tan\n",
      "    Compute tangent element-wise.\n",
      "numpy.ceil\n",
      "    Return the ceiling of the input, element-wise.\n",
      "numpy.conj\n",
      "    Return the complex conjugate, element-wise.\n",
      "numpy.cosh\n",
      "    Hyperbolic cosine, element-wise.\n",
      "numpy.fabs\n",
      "    Compute the absolute values element-wise.\n",
      "numpy.fmod\n",
      "    Return the element-wise remainder of division.\n",
      "numpy.less\n",
      "    Return the truth value of (x1 < x2) element-wise.\n",
      "numpy.log2\n",
      "    Base-2 logarithm of `x`.\n",
      "numpy.sign\n",
      "    Returns an element-wise indication of the sign of a number.\n",
      "numpy.sinh\n",
      "    Hyperbolic sine, element-wise.\n",
      "numpy.tanh\n",
      "    Compute hyperbolic tangent element-wise.\n",
      "numpy.core._multiarray_umath.datetime_as_string\n",
      "    Convert an array of datetimes into an array of strings.\n",
      "numpy.equal\n",
      "    Return (x1 == x2) element-wise.\n",
      "numpy.floor\n",
      "    Return the floor of the input, element-wise.\n",
      "numpy.frexp\n",
      "    Decompose the elements of x into mantissa and twos exponent.\n",
      "numpy.hypot\n",
      "    Given the \"legs\" of a right triangle, return its hypotenuse.\n",
      "numpy.isinf\n",
      "    Test element-wise for positive or negative infinity.\n",
      "numpy.ldexp\n",
      "    Returns x1 * 2**x2, element-wise.\n",
      "numpy.trunc\n",
      "    Return the truncated value of the input, element-wise.\n",
      "numpy.arccos\n",
      "    Trigonometric inverse cosine, element-wise.\n",
      "numpy.arcsin\n",
      "    Inverse sine, element-wise.\n",
      "numpy.arctan\n",
      "    Trigonometric inverse tangent, element-wise.\n",
      "numpy.around\n",
      "    Evenly round to the given number of decimals.\n",
      "numpy.divide\n",
      "    Returns a true division of the inputs, element-wise.\n",
      "numpy.divmod\n",
      "    Return element-wise quotient and remainder simultaneously.\n",
      "numpy.source\n",
      "    Print or write to a file the source code for a NumPy object.\n",
      "numpy.square\n",
      "    Return the element-wise square of the input.\n",
      "numpy.arccosh\n",
      "    Inverse hyperbolic cosine, element-wise.\n",
      "numpy.arcsinh\n",
      "    Inverse hyperbolic sine element-wise.\n",
      "numpy.arctan2\n",
      "    Element-wise arc tangent of ``x1/x2`` choosing the quadrant correctly.\n",
      "numpy.arctanh\n",
      "    Inverse hyperbolic tangent element-wise.\n",
      "numpy.deg2rad\n",
      "    Convert angles from degrees to radians.\n",
      "numpy.degrees\n",
      "    Convert angles from radians to degrees.\n",
      "numpy.greater\n",
      "    Return the truth value of (x1 > x2) element-wise.\n",
      "numpy.rad2deg\n",
      "    Convert angles from radians to degrees.\n",
      "numpy.radians\n",
      "    Convert angles from degrees to radians.\n",
      "numpy.signbit\n",
      "    Returns element-wise True where signbit is set (less than zero).\n",
      "numpy.spacing\n",
      "    Return the distance between x and the nearest adjacent number.\n",
      "numpy.copysign\n",
      "    Change the sign of x1 to that of x2, element-wise.\n",
      "numpy.diagonal\n",
      "    Return specified diagonals.\n",
      "numpy.isfinite\n",
      "    Test element-wise for finiteness (not infinity or not Not a Number).\n",
      "numpy.multiply\n",
      "    Multiply arguments element-wise.\n",
      "numpy.negative\n",
      "    Numerical negative, element-wise.\n",
      "numpy.subtract\n",
      "    Subtract arguments, element-wise.\n",
      "numpy.heaviside\n",
      "    Compute the Heaviside step function.\n",
      "numpy.logaddexp\n",
      "    Logarithm of the sum of exponentiations of the inputs.\n",
      "numpy.nextafter\n",
      "    Return the next floating-point value after x1 towards x2, element-wise.\n",
      "numpy.not_equal\n",
      "    Return (x1 != x2) element-wise.\n",
      "numpy.left_shift\n",
      "    Shift the bits of an integer to the left.\n",
      "numpy.less_equal\n",
      "    Return the truth value of (x1 =< x2) element-wise.\n",
      "numpy.logaddexp2\n",
      "    Logarithm of the sum of exponentiations of the inputs in base-2.\n",
      "numpy.logical_or\n",
      "    Compute the truth value of x1 OR x2 element-wise.\n",
      "numpy.nan_to_num\n",
      "    Replace NaN with zero and infinity with large finite numbers (default\n",
      "numpy.reciprocal\n",
      "    Return the reciprocal of the argument, element-wise.\n",
      "numpy.bitwise_not\n",
      "    Compute bit-wise inversion, or bit-wise NOT, element-wise.\n",
      "numpy.einsum_path\n",
      "    Evaluates the lowest cost contraction order for an einsum expression by\n",
      "numpy.histogram2d\n",
      "    Compute the bi-dimensional histogram of two data samples.\n",
      "numpy.logical_and\n",
      "    Compute the truth value of x1 AND x2 element-wise.\n",
      "numpy.logical_not\n",
      "    Compute the truth value of NOT x element-wise.\n",
      "numpy.logical_xor\n",
      "    Compute the truth value of x1 XOR x2, element-wise.\n",
      "numpy.right_shift\n",
      "    Shift the bits of an integer to the right.\n",
      "numpy.ma.abs\n",
      "    Calculate the absolute value element-wise.\n",
      "numpy.ma.add\n",
      "    Add arguments element-wise.\n",
      "numpy.ma.cos\n",
      "    Cosine element-wise.\n",
      "numpy.ma.log\n",
      "    Natural logarithm, element-wise.\n",
      "numpy.ma.mod\n",
      "    Return element-wise remainder of division.\n",
      "numpy.ma.sin\n",
      "    Trigonometric sine, element-wise.\n",
      "numpy.ma.tan\n",
      "    Compute tangent element-wise.\n",
      "numpy.floor_divide\n",
      "    Return the largest integer smaller or equal to the division of the inputs.\n",
      "numpy.ma.ceil\n",
      "    Return the ceiling of the input, element-wise.\n",
      "numpy.ma.cosh\n",
      "    Hyperbolic cosine, element-wise.\n",
      "numpy.fft.ifft\n",
      "    Compute the one-dimensional inverse discrete Fourier Transform.\n",
      "numpy.ma.fabs\n",
      "    Compute the absolute values element-wise.\n",
      "numpy.ma.fmod\n",
      "    Return the element-wise remainder of division.\n",
      "numpy.ma.less\n",
      "    Return the truth value of (x1 < x2) element-wise.\n",
      "numpy.ma.log2\n",
      "    Base-2 logarithm of `x`.\n",
      "numpy.ma.sinh\n",
      "    Hyperbolic sine, element-wise.\n",
      "numpy.ma.tanh\n",
      "    Compute hyperbolic tangent element-wise.\n",
      "numpy.greater_equal\n",
      "    Return the truth value of (x1 >= x2) element-wise.\n",
      "numpy.fft.ifftn\n",
      "    Compute the N-dimensional inverse discrete Fourier Transform.\n",
      "numpy.ma.equal\n",
      "    Return (x1 == x2) element-wise.\n",
      "numpy.ma.floor\n",
      "    Return the floor of the input, element-wise.\n",
      "numpy.ma.hypot\n",
      "    Given the \"legs\" of a right triangle, return its hypotenuse.\n",
      "numpy.busdaycalendar\n",
      "    A business day calendar object that efficiently stores information\n",
      "numpy.ma.arccos\n",
      "    Trigonometric inverse cosine, element-wise.\n",
      "numpy.ma.arcsin\n",
      "    Inverse sine, element-wise.\n",
      "numpy.ma.arctan\n",
      "    Trigonometric inverse tangent, element-wise.\n",
      "numpy.ma.divide\n",
      "    Returns a true division of the inputs, element-wise.\n",
      "numpy.lib.recfunctions.unstructured_to_structured\n",
      "    Converts and n-D unstructured array into an (n-1)-D structured array.\n",
      "numpy.ma.arccosh\n",
      "    Inverse hyperbolic cosine, element-wise.\n",
      "numpy.ma.arcsinh\n",
      "    Inverse hyperbolic sine element-wise.\n",
      "numpy.ma.arctan2\n",
      "    Element-wise arc tangent of ``x1/x2`` choosing the quadrant correctly.\n",
      "numpy.ma.arctanh\n",
      "    Inverse hyperbolic tangent element-wise.\n",
      "numpy.ma.greater\n",
      "    Return the truth value of (x1 > x2) element-wise.\n",
      "numpy.ma.multiply\n",
      "    Multiply arguments element-wise.\n",
      "numpy.ma.negative\n",
      "    Numerical negative, element-wise.\n",
      "numpy.ma.subtract\n",
      "    Subtract arguments, element-wise.\n",
      "numpy.ma.tests.test_subclassing.SubArray\n",
      "    ndarray(shape, dtype=float, buffer=None, offset=0,\n",
      "numpy.ma.conjugate\n",
      "    Return the complex conjugate, element-wise.\n",
      "numpy.ma.not_equal\n",
      "    Return (x1 != x2) element-wise.\n",
      "numpy.ma.remainder\n",
      "    Return element-wise remainder of division.\n",
      "numpy.ma.empty_like\n",
      "    empty_like(prototype, dtype=None, order='K', subok=True, shape=None)\n",
      "numpy.ma.less_equal\n",
      "    Return the truth value of (x1 =< x2) element-wise.\n",
      "numpy.ma.logical_or\n",
      "    Compute the truth value of x1 OR x2 element-wise.\n",
      "numpy.ma.logical_and\n",
      "    Compute the truth value of x1 AND x2 element-wise.\n",
      "numpy.ma.logical_not\n",
      "    Compute the truth value of NOT x element-wise.\n",
      "numpy.ma.logical_xor\n",
      "    Compute the truth value of x1 XOR x2, element-wise.\n",
      "numpy.ma.true_divide\n",
      "    Returns a true division of the inputs, element-wise.\n",
      "numpy.ma.floor_divide\n",
      "    Return the largest integer smaller or equal to the division of the inputs.\n",
      "numpy.ma.greater_equal\n",
      "    Return the truth value of (x1 >= x2) element-wise.\n",
      "numpy.core.tests.test_function_base.PhysicalQuantity2\n",
      "    ndarray(shape, dtype=float, buffer=None, offset=0,\n",
      "numpy.lib.tests.test_stride_tricks.SimpleSubClass\n",
      "    ndarray(shape, dtype=float, buffer=None, offset=0,\n",
      "numpy.ma.tests.test_subclassing.ComplicatedSubArray\n",
      "    ndarray(shape, dtype=float, buffer=None, offset=0,\n",
      "numpy.lib.tests.test_stride_tricks.VerySimpleSubClass\n",
      "    ndarray(shape, dtype=float, buffer=None, offset=0,\n",
      "numpy.core.tests.test_multiarray.TestArrayPriority.Foo\n",
      "    ndarray(shape, dtype=float, buffer=None, offset=0,\n",
      "numpy.core.tests.test_multiarray.TestArrayPriority.Bar\n",
      "    ndarray(shape, dtype=float, buffer=None, offset=0,\n",
      "numpy.testing._gen_alignment_data\n",
      "    generator producing data with different alignment and offsets\n",
      "numpy.random.RandomState.rand\n",
      "    Random values in a given shape."
     ]
    }
   ],
   "source": [
    "np.lookfor('create array')"
   ]
  },
  {
   "cell_type": "markdown",
   "metadata": {
    "colab_type": "text",
    "id": "Cdn3wcPcL8Ai"
   },
   "source": [
    "- #### Import conventions\n",
    "\n",
    "&emsp;&emsp;NumPy를 import하는데 권장하는 방법입니다.\n",
    "```python\n",
    "import numpy as np\n",
    "```"
   ]
  },
  {
   "cell_type": "code",
   "execution_count": 6,
   "metadata": {
    "colab": {},
    "colab_type": "code",
    "id": "O6wfCgDcL8Aj"
   },
   "outputs": [],
   "source": [
    "import numpy as np"
   ]
  },
  {
   "cell_type": "markdown",
   "metadata": {
    "colab_type": "text",
    "id": "4OzbCuqzL8Am"
   },
   "source": [
    "### 1 - 2. Creating arrays\n",
    "\n",
    "- __Manual construction of arrays__\n",
    "- __Functions for creating arrays__"
   ]
  },
  {
   "cell_type": "markdown",
   "metadata": {
    "colab_type": "text",
    "id": "AgrfSQ-oL8Am"
   },
   "source": [
    "- #### Manual construction of arrays\n",
    "\n",
    "&emsp;&emsp;NumPy에서 .array() 함수에 list type의 값을 넣으면 array가 생성이 됩니다.<br>\n",
    "&emsp;&emsp;또한, array에 .ndim 입력시 해당 array의 첫번째 차원의 크기가 나옵니다.<br>\n",
    "&emsp;&emsp;.shape 경우에는 (1, 2, 3...)의 해당 차원의 크기가 나옵니다.<br>\n",
    "\n",
    "&emsp;&emsp;1차원 array:\n",
    "```python\n",
    "a = np.array([0, 1, 2, 3])\n",
    "print(a.ndim, a.shape)\n",
    "```\n",
    "&emsp;&emsp;2차원 array:\n",
    "```python\n",
    "b = np.array([[0, 1, 2], [3, 4, 5]])\n",
    "print(b.ndim, b.shape)\n",
    "```\n",
    "&emsp;&emsp;3차원 array:\n",
    "```python\n",
    "c = np.array([[[1], [2]], [[3], [4]]])\n",
    "print(c.ndim, c.shape)\n",
    "```"
   ]
  },
  {
   "cell_type": "code",
   "execution_count": 7,
   "metadata": {
    "colab": {},
    "colab_type": "code",
    "id": "5gUS8CAmL8An",
    "outputId": "2ba86c7f-f952-4246-9ded-e67b801eebc1"
   },
   "outputs": [
    {
     "name": "stdout",
     "output_type": "stream",
     "text": [
      "[0 1 2 3] 1 (4,)\n",
      "[[0 1 2]\n",
      " [3 4 5]] 2 (2, 3)\n",
      "[[[1]\n",
      "  [2]]\n",
      "\n",
      " [[3]\n",
      "  [4]]] 3 (2, 2, 1)\n"
     ]
    }
   ],
   "source": [
    "a = np.array([0, 1, 2, 3])\n",
    "print(a, a.ndim, a.shape)\n",
    "\n",
    "b = np.array([[0, 1, 2], [3, 4, 5]])\n",
    "print(b, b.ndim, b.shape)\n",
    "\n",
    "c = np.array([[[1], [2]], [[3], [4]]])\n",
    "print(c, c.ndim, c.shape)"
   ]
  },
  {
   "cell_type": "markdown",
   "metadata": {
    "colab_type": "text",
    "id": "ezPqgSIEL8Ar"
   },
   "source": [
    "- #### Functions for creating arrays\n",
    "\n",
    "&emsp;&emsp;NumPy의 함수를 이용하여 array를 생성할 수 있습니다.<br>\n",
    "&emsp;&emsp;.arange(start, end, step) 함수를 이용하면, start부터 end-1까지의 수로 step만큼 증가하면서 array를 생성합니다. (1차원)\n",
    "```python\n",
    "a = np.arange(10) # np.arange(0, 10, 1)\n",
    "print(a, a.ndim, a.shape)\n",
    "\n",
    "b = np.arange(1, 9, 2)\n",
    "print(b, b.ndim, b.shape)\n",
    "```"
   ]
  },
  {
   "cell_type": "code",
   "execution_count": 8,
   "metadata": {
    "colab": {},
    "colab_type": "code",
    "id": "KTQSixZIL8As",
    "outputId": "7a946046-e6c5-454b-9d59-88d49057367b"
   },
   "outputs": [
    {
     "name": "stdout",
     "output_type": "stream",
     "text": [
      "[0 1 2 3 4 5 6 7 8 9] 1 (10,)\n",
      "[1 3 5 7] 1 (4,)\n"
     ]
    }
   ],
   "source": [
    "a = np.arange(10) # np.arange(0, 10, 1)\n",
    "print(a, a.ndim, a.shape)\n",
    "\n",
    "b = np.arange(1, 9, 2)\n",
    "print(b, b.ndim, b.shape)"
   ]
  },
  {
   "cell_type": "markdown",
   "metadata": {
    "colab_type": "text",
    "id": "qUDVcLBAL8Av"
   },
   "source": [
    "&emsp;&emsp;.linspace(start, end, num-points) 함수를 이용하면, start부터 end까지 num-points번 나누어서 array를 생성합니다. (1차원)\n",
    "```python\n",
    "c = np.linspace(0, 1, 6)\n",
    "print(c, c.ndim, c.shape)\n",
    "\n",
    "d = np.linspace(0, 1, 5, endpoint=False)\n",
    "print(d, d.ndim, d.shape)\n",
    "```"
   ]
  },
  {
   "cell_type": "code",
   "execution_count": 9,
   "metadata": {
    "colab": {},
    "colab_type": "code",
    "id": "YG3cKLtBL8Av",
    "outputId": "da6dca46-acbf-4f57-d383-97606d9cdf11"
   },
   "outputs": [
    {
     "name": "stdout",
     "output_type": "stream",
     "text": [
      "[0.  0.2 0.4 0.6 0.8 1. ] 1 (6,)\n",
      "[0.  0.2 0.4 0.6 0.8] 1 (5,)\n"
     ]
    }
   ],
   "source": [
    "c = np.linspace(0, 1, 6)\n",
    "print(c, c.ndim, c.shape)\n",
    "\n",
    "d = np.linspace(0, 1, 5, endpoint=False)\n",
    "print(d, d.ndim, d.shape)"
   ]
  },
  {
   "cell_type": "markdown",
   "metadata": {
    "colab_type": "text",
    "id": "S2n32BWBL8Ay"
   },
   "source": [
    "&emsp;&emsp;.ones({tuple type(Integer)}) 함수를 이용하면, tuple type(integer)의 크기만큼 모든 요소가 1인 array생성\n",
    "```python\n",
    "a = np.ones((3, 3)) # 3행 3열 짜리의 2D-array생성\n",
    "print(a, a.ndim, a.shape)\n",
    "```"
   ]
  },
  {
   "cell_type": "code",
   "execution_count": 10,
   "metadata": {
    "colab": {},
    "colab_type": "code",
    "id": "e5Q5IXRWL8Az",
    "outputId": "c9b0c00f-f5c1-40bd-e58a-22e1cba0eb8e"
   },
   "outputs": [
    {
     "name": "stdout",
     "output_type": "stream",
     "text": [
      "[[1. 1. 1.]\n",
      " [1. 1. 1.]\n",
      " [1. 1. 1.]] 2 (3, 3)\n"
     ]
    }
   ],
   "source": [
    "a = np.ones((3, 3)) # 3행 3열 짜리의 2D-array생성\n",
    "print(a, a.ndim, a.shape)"
   ]
  },
  {
   "cell_type": "markdown",
   "metadata": {
    "colab_type": "text",
    "id": "lRwpU7IyL8A2"
   },
   "source": [
    "&emsp;&emsp;.zeros({tuple type(Integer)}) 함수를 이용하면, tuple type(integer)의 크기만큼 모든 요소가 0인 array생성\n",
    "```python\n",
    "a = np.ones((2, 3)) # 2행 3열 짜리의 2D-array생성\n",
    "print(a, a.ndim, a.shape)\n",
    "```"
   ]
  },
  {
   "cell_type": "code",
   "execution_count": 11,
   "metadata": {
    "colab": {},
    "colab_type": "code",
    "id": "nmt1QOdxL8A3",
    "outputId": "7cb84f53-3876-4d6c-8074-56ffbbb7cdaa"
   },
   "outputs": [
    {
     "name": "stdout",
     "output_type": "stream",
     "text": [
      "[[1. 1. 1.]\n",
      " [1. 1. 1.]] 2 (2, 3)\n"
     ]
    }
   ],
   "source": [
    "a = np.ones((2, 3)) # 2행 3열 짜리의 2D-array생성\n",
    "print(a, a.ndim, a.shape)"
   ]
  },
  {
   "cell_type": "markdown",
   "metadata": {
    "colab_type": "text",
    "id": "bPzKrIODL8A6"
   },
   "source": [
    "&emsp;&emsp;.eye(n) 함수를 이용하면, n차 단위 행렬인 array생성\n",
    "```python\n",
    "a = np.eye(3) \n",
    "print(a, a.ndim, a.shape)\n",
    "```"
   ]
  },
  {
   "cell_type": "code",
   "execution_count": 12,
   "metadata": {
    "colab": {},
    "colab_type": "code",
    "id": "DnA5RV7lL8A7",
    "outputId": "eda9c5c1-403b-41db-90bc-1b3ad0b4721a"
   },
   "outputs": [
    {
     "name": "stdout",
     "output_type": "stream",
     "text": [
      "[[1. 0. 0.]\n",
      " [0. 1. 0.]\n",
      " [0. 0. 1.]] 2 (3, 3)\n"
     ]
    }
   ],
   "source": [
    "a = np.eye(3) \n",
    "print(a, a.ndim, a.shape)"
   ]
  },
  {
   "cell_type": "markdown",
   "metadata": {
    "colab_type": "text",
    "id": "J3v9-IHHL8A9"
   },
   "source": [
    "&emsp;&emsp;.diag({.array()}) 함수를 이용하면, {.array()}의 대각행렬인 array생성\n",
    "```python\n",
    "a = np.diag(np.array([0, 1, 2, 3]))\n",
    "print(a, a.ndim, a.shape)\n",
    "```"
   ]
  },
  {
   "cell_type": "code",
   "execution_count": 13,
   "metadata": {
    "colab": {},
    "colab_type": "code",
    "id": "qYUgDQqdL8A-",
    "outputId": "a5248416-a6c8-4a1d-8993-d1d18a67c249",
    "scrolled": true
   },
   "outputs": [
    {
     "name": "stdout",
     "output_type": "stream",
     "text": [
      "[[0 0 0 0]\n",
      " [0 1 0 0]\n",
      " [0 0 2 0]\n",
      " [0 0 0 3]] 2 (4, 4)\n"
     ]
    }
   ],
   "source": [
    "a = np.diag(np.array([0, 1, 2, 3]))\n",
    "print(a, a.ndim, a.shape)"
   ]
  },
  {
   "cell_type": "markdown",
   "metadata": {
    "colab_type": "text",
    "id": "houxGoybL8BA"
   },
   "source": [
    "#### [부록] .diag({.array()}, n)\n",
    "\n",
    "```python\n",
    "a = np.diag(np.array([1, 2, 3, -4]), 1)\n",
    "print(a, a.ndim, a.shape)\n",
    "\n",
    "a = np.diag(np.array([1, 2, 3, -4]), -1)\n",
    "print(a, a.ndim, a.shape)\n",
    "```"
   ]
  },
  {
   "cell_type": "code",
   "execution_count": 14,
   "metadata": {
    "colab": {},
    "colab_type": "code",
    "id": "PI8eSK_xL8BB",
    "outputId": "c670e0cb-6691-4493-ecbd-d4722bfc029b"
   },
   "outputs": [
    {
     "name": "stdout",
     "output_type": "stream",
     "text": [
      "[[ 0  1  0  0  0]\n",
      " [ 0  0  2  0  0]\n",
      " [ 0  0  0  3  0]\n",
      " [ 0  0  0  0 -4]\n",
      " [ 0  0  0  0  0]] 2 (5, 5)\n",
      "[[ 0  0  0  0  0]\n",
      " [ 1  0  0  0  0]\n",
      " [ 0  2  0  0  0]\n",
      " [ 0  0  3  0  0]\n",
      " [ 0  0  0 -4  0]] 2 (5, 5)\n"
     ]
    }
   ],
   "source": [
    "a = np.diag(np.array([1, 2, 3, -4]), 1)\n",
    "print(a, a.ndim, a.shape)\n",
    "\n",
    "a = np.diag(np.array([1, 2, 3, -4]), -1)\n",
    "print(a, a.ndim, a.shape)"
   ]
  },
  {
   "cell_type": "markdown",
   "metadata": {
    "colab_type": "text",
    "id": "N-WJrPliL8BD"
   },
   "source": [
    "### 1 - 3. Basic data types\n",
    "\n",
    "- __.dtype__\n",
    "- __Types__"
   ]
  },
  {
   "cell_type": "markdown",
   "metadata": {
    "colab_type": "text",
    "id": "ZYDdNNZdL8BE"
   },
   "source": [
    "- #### .dtype\n",
    "\n",
    "&emsp;&emsp;{array객체}.dtype을 이용해 해당 array 요소의 type을 알 수 있습니다.<br>\n",
    "&emsp;&emsp;[단, .dtype != type()]\n",
    "```python\n",
    "a = np.array([0, 1, 2])\n",
    "print(a.dtype, type(a))\n",
    "```"
   ]
  },
  {
   "cell_type": "code",
   "execution_count": 15,
   "metadata": {
    "colab": {},
    "colab_type": "code",
    "id": "8XqwLmAEL8BF",
    "outputId": "2b3c96cc-5f5c-446c-9450-15a9d70d55c8"
   },
   "outputs": [
    {
     "name": "stdout",
     "output_type": "stream",
     "text": [
      "int32 <class 'numpy.ndarray'>\n"
     ]
    }
   ],
   "source": [
    "a = np.array([0, 1, 2])\n",
    "print(a.dtype, type(a))"
   ]
  },
  {
   "cell_type": "markdown",
   "metadata": {
    "colab_type": "text",
    "id": "qCh62n1IL8BI"
   },
   "source": [
    "- #### Types\n",
    "\n",
    "&emsp;&emsp;{array객체}.dtype 에는 여러가지 type이 존재합니다.<br>\n",
    "&emsp;&emsp; __-__ complex<br>\n",
    "&emsp;&emsp; __-__ bool<br>\n",
    "&emsp;&emsp; __-__ String<br>\n",
    "&emsp;&emsp; __-__ int32, 64<br>\n",
    "&emsp;&emsp; __-__ float64<br>\n",
    "&emsp;&emsp; __-__ uint32, 54<br>\n",
    "\n",
    "```python\n",
    "c = np.array([1+2j, 3+4j, 5+6*1j])\n",
    "print(c.dtype)\n",
    "\n",
    "b = np.array([True, False, False, True])\n",
    "print(b.dtype)\n",
    "\n",
    "s = np.array(['Bonjour', 'Hello', 'Hallo'])\n",
    "print(s.dtype)\n",
    "\n",
    "i = np.array([1, 2, 3])\n",
    "print(i.dtype)\n",
    "\n",
    "f = np.array([1, 2, 3], dtype=float)\n",
    "print(f.dtype)\n",
    "f = np.array([1.2, 2.3, 3.0])\n",
    "print(f.dtype)\n",
    "```"
   ]
  },
  {
   "cell_type": "code",
   "execution_count": 16,
   "metadata": {
    "colab": {},
    "colab_type": "code",
    "id": "QZ2Sec9bL8BI",
    "outputId": "a98322e7-5b87-4845-ca21-b8240666ec03"
   },
   "outputs": [
    {
     "name": "stdout",
     "output_type": "stream",
     "text": [
      "complex128\n",
      "bool\n",
      "<U7\n",
      "int32\n",
      "float64\n",
      "float64\n"
     ]
    }
   ],
   "source": [
    "c = np.array([1+2j, 3+4j, 5+6*1j])\n",
    "print(c.dtype)\n",
    "\n",
    "b = np.array([True, False, False, True])\n",
    "print(b.dtype)\n",
    "\n",
    "s = np.array(['Bonjour', 'Hello', 'Hallo'])\n",
    "print(s.dtype)\n",
    "\n",
    "i = np.array([1, 2, 3])\n",
    "print(i.dtype)\n",
    "\n",
    "f = np.array([1, 2, 3], dtype=float)\n",
    "print(f.dtype)\n",
    "f = np.array([1.2, 2.3, 3.0])\n",
    "print(f.dtype)"
   ]
  },
  {
   "cell_type": "markdown",
   "metadata": {
    "colab_type": "text",
    "id": "YT3Xi4DGL8BL"
   },
   "source": [
    "### 1 - 4. Basic visualization\n",
    "\n",
    "- __matplotlib__\n",
    "- __1D plotting__\n",
    "- __2D arrays (such as images)__"
   ]
  },
  {
   "cell_type": "markdown",
   "metadata": {
    "colab_type": "text",
    "id": "zBXLuJPRL8BM"
   },
   "source": [
    "- #### matplotlib\n",
    "\n",
    "&emsp;&emsp;아래의 문장을 통해 Rich output을 표현할 수 있도록 합니다. (Rich output = 그림, 소리, 애니메이션같은 결과물)\n",
    "```python\n",
    "%matplotlib inline\n",
    "```"
   ]
  },
  {
   "cell_type": "code",
   "execution_count": 17,
   "metadata": {
    "colab": {},
    "colab_type": "code",
    "id": "l1LAVX6eL8BM"
   },
   "outputs": [],
   "source": [
    "%matplotlib inline"
   ]
  },
  {
   "cell_type": "markdown",
   "metadata": {
    "colab_type": "text",
    "id": "EVUj-_MVL8BO"
   },
   "source": [
    "&emsp;&emsp;Matplotlib는 2D plotting package이며, 보통은 아래와 같이 import합니다.\n",
    "```python\n",
    "import matplotlib.pyplot as plt\n",
    "```"
   ]
  },
  {
   "cell_type": "code",
   "execution_count": 18,
   "metadata": {
    "colab": {},
    "colab_type": "code",
    "id": "7iqdrA5bL8BP"
   },
   "outputs": [],
   "source": [
    "import matplotlib.pyplot as plt"
   ]
  },
  {
   "cell_type": "markdown",
   "metadata": {
    "colab_type": "text",
    "id": "QQnR_VZzL8BS"
   },
   "source": [
    "- #### 1D plotting\n",
    "\n",
    "&emsp;&emsp;아래와 같이 x, y array를 이용하여 1차 함수의 그래프를 그릴 수 있습니다.<br>\n",
    "&emsp;&emsp;\n",
    "```python\n",
    "x = np.linspace(0, 20, 21) # 0부터 21까지 20등분\n",
    "y = np.linspace(0, 40, 21) # 0부터 41까지 20등분\n",
    "\n",
    "plt.plot(x, y) # line\n",
    "plt.plot(x, y, 'o') # dot\n",
    "plt.show()\n",
    "```"
   ]
  },
  {
   "cell_type": "code",
   "execution_count": 19,
   "metadata": {
    "colab": {},
    "colab_type": "code",
    "id": "4uQLOoWSL8BS",
    "outputId": "fe642957-968d-4b72-eb97-a95934a4211c"
   },
   "outputs": [
    {
     "data": {
      "image/png": "[encoded data removed]",
      "text/plain": [
       "<Figure size 432x288 with 1 Axes>"
      ]
     },
     "metadata": {
      "needs_background": "light"
     },
     "output_type": "display_data"
    }
   ],
   "source": [
    "x = np.linspace(0, 20, 21) # 0부터 20까지 20등분\n",
    "y = np.linspace(0, 40, 21) # 0부터 40까지 20등분\n",
    "\n",
    "plt.plot(x, y) # line\n",
    "plt.plot(x, y, 'o') # dot\n",
    "plt.show()"
   ]
  },
  {
   "cell_type": "markdown",
   "metadata": {
    "colab_type": "text",
    "id": "e5MFuGKUL8BU"
   },
   "source": [
    "- #### 2D arrays (such as images)\n",
    "\n",
    "&emsp;&emsp;아래와 같은 코드를 통해 2D array를 그래프로 그릴 수 있습니다.\n",
    "```python\n",
    "image = np.random.rand(30, 30)\n",
    "print(image.dtype, image.shape)\n",
    "\n",
    "plt.imshow(image, cmap=plt.cm.hot)\n",
    "plt.colorbar()\n",
    "```"
   ]
  },
  {
   "cell_type": "code",
   "execution_count": 20,
   "metadata": {
    "colab": {},
    "colab_type": "code",
    "id": "9pK4O0VkL8BV",
    "outputId": "7c80fb2e-a98b-49f8-eb57-5235f532a8f2"
   },
   "outputs": [
    {
     "name": "stdout",
     "output_type": "stream",
     "text": [
      "float64 (30, 30)\n"
     ]
    },
    {
     "data": {
      "text/plain": [
       "<matplotlib.colorbar.Colorbar at 0x27917f7bf40>"
      ]
     },
     "execution_count": 20,
     "metadata": {},
     "output_type": "execute_result"
    },
    {
     "data": {
      "image/png": "[encoded data removed]",
      "text/plain": [
       "<Figure size 432x288 with 2 Axes>"
      ]
     },
     "metadata": {
      "needs_background": "light"
     },
     "output_type": "display_data"
    }
   ],
   "source": [
    "image = np.random.rand(30, 30)\n",
    "print(image.dtype, image.shape)\n",
    "\n",
    "plt.imshow(image, cmap=plt.cm.hot)\n",
    "plt.colorbar()"
   ]
  },
  {
   "cell_type": "markdown",
   "metadata": {
    "colab_type": "text",
    "id": "AwAqWhF5L8BX"
   },
   "source": [
    "### 1 - 5. Indexing and slicing\n",
    "\n",
    "- __indexing__\n",
    "- __slicing__"
   ]
  },
  {
   "cell_type": "markdown",
   "metadata": {
    "colab_type": "text",
    "id": "yrZbLuZsL8BY"
   },
   "source": [
    "- #### indexing\n",
    "\n",
    "&emsp;&emsp;NumPy array의 indexing은 Python의 indexing과 유사합니다.\n",
    "\n",
    "```python\n",
    "# 1D\n",
    "a = np.arange(10)\n",
    "print(a)\n",
    "print(a[0], a[2], a[-1])\n",
    "\n",
    "# 2D [1D_index, 2D_index], [행, 열]\n",
    "b = np.diag(np.arange(1, 4))\n",
    "print(b)\n",
    "print(b[0, 0], b[1, 1], b[2, 2])\n",
    "print(b[1]) # 2행의 모든 요소\n",
    "```"
   ]
  },
  {
   "cell_type": "code",
   "execution_count": 21,
   "metadata": {
    "colab": {},
    "colab_type": "code",
    "id": "hPmrRvQ-L8BY",
    "outputId": "cd4892ab-a9ee-4a00-a922-0512d782a2ac"
   },
   "outputs": [
    {
     "name": "stdout",
     "output_type": "stream",
     "text": [
      "[0 1 2 3 4 5 6 7 8 9]\n",
      "0 2 9\n",
      "[[1 0 0]\n",
      " [0 2 0]\n",
      " [0 0 3]]\n",
      "1 2 3\n",
      "[0 2 0]\n"
     ]
    }
   ],
   "source": [
    "# 1D\n",
    "a = np.arange(10)\n",
    "print(a)\n",
    "print(a[0], a[2], a[-1])\n",
    "\n",
    "# 2D [1D_index, 2D_index], [행, 열]\n",
    "b = np.diag(np.arange(1, 4))\n",
    "print(b)\n",
    "print(b[0, 0], b[1, 1], b[2, 2])\n",
    "print(b[1]) # 2행의 모든 요소"
   ]
  },
  {
   "cell_type": "markdown",
   "metadata": {
    "colab_type": "text",
    "id": "sKwZnuWBL8Bb"
   },
   "source": [
    "- #### slicing\n",
    "\n",
    "&emsp;&emsp;NumPy array의 slicing 역시 Python의 list slicing과 유사합니다.\n",
    "\n",
    "```python\n",
    "a = np.arange(10)\n",
    "print(a)\n",
    "\n",
    "print(a[2:9:3]) # a[start:end:step]\n",
    "print(a[:4])\n",
    "print(a[3:])\n",
    "print(a[::2])\n",
    "print(a[::-1]) # reverse\n",
    "```"
   ]
  },
  {
   "cell_type": "code",
   "execution_count": 22,
   "metadata": {
    "colab": {},
    "colab_type": "code",
    "id": "nNdhAxgtL8Bc",
    "outputId": "30d7d66c-5a7e-4cc2-b8f8-724c7f6ea710",
    "scrolled": true
   },
   "outputs": [
    {
     "name": "stdout",
     "output_type": "stream",
     "text": [
      "[0 1 2 3 4 5 6 7 8 9]\n",
      "[2 5 8]\n",
      "[0 1 2 3]\n",
      "[3 4 5 6 7 8 9]\n",
      "[0 2 4 6 8]\n",
      "[9 8 7 6 5 4 3 2 1 0]\n"
     ]
    }
   ],
   "source": [
    "a = np.arange(10)\n",
    "print(a)\n",
    "\n",
    "print(a[2:9:3]) # a[start:end:step]\n",
    "print(a[:4])\n",
    "print(a[3:])\n",
    "print(a[::2])\n",
    "print(a[::-1]) # reverse"
   ]
  },
  {
   "cell_type": "markdown",
   "metadata": {
    "colab_type": "text",
    "id": "Xd6FvcChL8Be"
   },
   "source": [
    "&emsp;&emsp;2차 배열의 slicing 역시 Python과 NumPy의 indexing을 이용합니다.\n",
    "\n",
    "```python\n",
    "a = np.array([range(i, i + 6) for i in range(0, 51, 10)])\n",
    "print(a) # ALL\n",
    "```\n",
    "<img src=\"asset/numpy_indexing.png\" width=55% />"
   ]
  },
  {
   "cell_type": "code",
   "execution_count": 23,
   "metadata": {
    "colab": {},
    "colab_type": "code",
    "id": "PBRa5T6GL8Bf",
    "outputId": "0c017079-b087-41ff-9c9b-c165f83410dc"
   },
   "outputs": [
    {
     "name": "stdout",
     "output_type": "stream",
     "text": [
      "[[ 0  1  2  3  4  5]\n",
      " [10 11 12 13 14 15]\n",
      " [20 21 22 23 24 25]\n",
      " [30 31 32 33 34 35]\n",
      " [40 41 42 43 44 45]\n",
      " [50 51 52 53 54 55]]\n",
      "[3 4]\n",
      "[[44 45]\n",
      " [54 55]]\n",
      "[ 2 12 22 32 42 52]\n",
      "[[20 22 24]\n",
      " [40 42 44]]\n"
     ]
    }
   ],
   "source": [
    "a = np.arange(6) + np.arange(0, 51, 10)[:, np.newaxis]\n",
    "print(a) # ALL\n",
    "\n",
    "print(a[0, 3:5])\n",
    "print(a[4:, 4:]) \n",
    "print(a[:, 2])\n",
    "print(a[2::2, ::2])"
   ]
  },
  {
   "cell_type": "markdown",
   "metadata": {
    "colab_type": "text",
    "id": "wfAJ_hbIL8Bh"
   },
   "source": [
    "### 1 - 6. Copies and views\n",
    "\n",
    "- __copies__\n",
    "- __views__"
   ]
  },
  {
   "cell_type": "markdown",
   "metadata": {
    "colab_type": "text",
    "id": "37xJ74pmL8Bi"
   },
   "source": [
    "- #### copies\n",
    "\n",
    "&emsp;&emsp;NumPy의 array를 copy하는 경우 .copy() 메소드를 이용하여야 서로 다른 값을 가질 수 있습니다.\n",
    "```python\n",
    "a = np.arange(10)\n",
    "b = a[::2] # a copy\n",
    "b[0] = 12 # b[0] change\n",
    "print(a)\n",
    "\n",
    "print(np.may_share_memory(a, b)) # a, b의 메모리 공유 확인\n",
    "\n",
    "a = np.arange(10)\n",
    "c = a[::2].copy() # a copy\n",
    "c[0] = 12 # c change\n",
    "print(a)\n",
    "\n",
    "print(np.may_share_memory(a, c)) # a, c의 메모리 공유 확인\n",
    "```"
   ]
  },
  {
   "cell_type": "code",
   "execution_count": 24,
   "metadata": {
    "colab": {},
    "colab_type": "code",
    "id": "X_x6hPToL8Bi",
    "outputId": "a75e083a-47bc-4dec-923c-6ab146b54f19"
   },
   "outputs": [
    {
     "name": "stdout",
     "output_type": "stream",
     "text": [
      "[12  1  2  3  4  5  6  7  8  9]\n",
      "True\n",
      "[0 1 2 3 4 5 6 7 8 9]\n",
      "False\n"
     ]
    }
   ],
   "source": [
    "a = np.arange(10)\n",
    "b = a[::2] # a copy\n",
    "b[0] = 12 # b[0] change\n",
    "print(a)\n",
    "\n",
    "print(np.may_share_memory(a, b)) # a, b의 메모리 공유 확인\n",
    "\n",
    "a = np.arange(10)\n",
    "c = a[::2].copy() # a copy\n",
    "c[0] = 12 # c change\n",
    "print(a)\n",
    "\n",
    "print(np.may_share_memory(a, c)) # a, c의 메모리 공유 확인"
   ]
  },
  {
   "cell_type": "markdown",
   "metadata": {
    "colab_type": "text",
    "id": "kYooyBEmL8Bk"
   },
   "source": [
    "- #### views\n",
    "\n",
    "&emsp;&emsp;원래 slicing의 경우 해당 배열의 view를 생성하는 것입니다.<br>\n",
    "&emsp;&emsp;즉, 해당 array를 좀 더 편하게 접근하도록 것입니다.<br>\n",
    "&emsp;&emsp;예제를 통해 예를 들자면<br>\n",
    "```python\n",
    "a = np.arange(10)\n",
    "b = a[::2]\n",
    "```\n",
    "&emsp;&emsp;위의 코드에서 b는 a의 데이터를 2칸씩 건너서 접근하겠다는 것입니다.<br><br>\n",
    "&emsp;&emsp;&emsp;&emsp; b[0] == a[0]<br>\n",
    "&emsp;&emsp;&emsp;&emsp; b[1] == a[2]<br>\n",
    "&emsp;&emsp;&emsp;&emsp; b[2] == a[4]<br>\n",
    "&emsp;&emsp;&emsp;&emsp; ..."
   ]
  },
  {
   "cell_type": "code",
   "execution_count": 25,
   "metadata": {
    "colab": {},
    "colab_type": "code",
    "id": "g6i0HJ0cL8Bl",
    "outputId": "9587f965-e462-4aee-bbf7-31c18ac1f954"
   },
   "outputs": [
    {
     "name": "stdout",
     "output_type": "stream",
     "text": [
      "True True True\n"
     ]
    }
   ],
   "source": [
    "a = np.arange(10)\n",
    "b = a[::2]\n",
    "\n",
    "print(b[0] == a[0], b[1] == a[2], b[2] == a[4])"
   ]
  },
  {
   "cell_type": "markdown",
   "metadata": {
    "colab_type": "text",
    "id": "RTgsU_zLL8Bn"
   },
   "source": [
    "### 1 - 7. Fancy indexing\n",
    "\n",
    "- __Using boolean masks__\n",
    "- __Indexing with an array of integers__"
   ]
  },
  {
   "cell_type": "markdown",
   "metadata": {
    "colab_type": "text",
    "id": "XVJpXOyEL8Bn"
   },
   "source": [
    "- #### Using boolean masks\n",
    "\n",
    "&emsp;&emsp;mask를 사용하여 index을 할 수 있습니다.<br>\n",
    "&emsp;&emsp;mask의 경우 해당 array의 데이터중 mask에만 해당되는 값을 slicing할 때 사용됩니다.<br>\n",
    "&emsp;&emsp;아래의 예제의 경우 array중 3의 배수만 추출하는 방법입니다.<br>\n",
    "```python\n",
    "np.random.seed(3) # random의 seed 결정 (변경시 다른 값으로 추출)\n",
    "a = np.random.randint(0, 21, 15) # 0부터 21까지 int64의 랜덤값 15개로 array 생성\n",
    "print(a)\n",
    "\n",
    "mask = (a % 3 == 0)\n",
    "print(mask)\n",
    "\n",
    "extract_from_a = a[mask]\n",
    "print(extract_from_a)\n",
    "```"
   ]
  },
  {
   "cell_type": "code",
   "execution_count": 26,
   "metadata": {
    "colab": {},
    "colab_type": "code",
    "id": "4B-h8odQL8Bo",
    "outputId": "eadd3f06-3cb3-4a80-f827-5c41a9f9107b",
    "scrolled": true
   },
   "outputs": [
    {
     "name": "stdout",
     "output_type": "stream",
     "text": [
      "[10  3  8  0 19 10 11  9 10  6  0 20 12  7 14]\n",
      "[False  True False  True False False False  True False  True  True False\n",
      "  True False False]\n",
      "[ 3  0  9  6  0 12]\n"
     ]
    }
   ],
   "source": [
    "np.random.seed(3) # random의 seed 결정\n",
    "a = np.random.randint(0, 21, 15) # 0부터 21까지 int64의 랜덤값 15개로 array 생성\n",
    "print(a)\n",
    "\n",
    "mask = (a % 3 == 0)\n",
    "print(mask)\n",
    "\n",
    "extract_from_a = a[mask]\n",
    "print(extract_from_a)"
   ]
  },
  {
   "cell_type": "markdown",
   "metadata": {
    "colab_type": "text",
    "id": "eJhfSHfXL8Bq"
   },
   "source": [
    "- #### Indexing with an array of integers\n",
    "\n",
    "&emsp;&emsp;Python의 list를 이용해 indexing을 할 수 있습니다.\n",
    "```python\n",
    "a = np.arange(0, 100, 10)\n",
    "print(a)\n",
    "\n",
    "print(a[[2, 3, 2, 4, 2]]) # [2, 3, 2, 4, 2]은 Python의 list\n",
    "```\n",
    "<img src=\"https://scipy-lectures.org/_images/numpy_indexing.png\" width=\"500\">"
   ]
  },
  {
   "cell_type": "code",
   "execution_count": 27,
   "metadata": {
    "colab": {},
    "colab_type": "code",
    "id": "IOwqD57oL8Bq",
    "outputId": "a72be429-8d16-4a48-f339-2ec4dedab629"
   },
   "outputs": [
    {
     "name": "stdout",
     "output_type": "stream",
     "text": [
      "[ 0 10 20 30 40 50 60 70 80 90]\n",
      "[20 30 20 40 20]\n",
      "[ 1 12 23 34 45]\n",
      "[[30 32 35]\n",
      " [40 42 45]\n",
      " [50 52 55]]\n",
      "[ 2 22 52]\n"
     ]
    }
   ],
   "source": [
    "a = np.arange(0, 100, 10)\n",
    "print(a)\n",
    "\n",
    "print(a[[2, 3, 2, 4, 2]])\n",
    "\n",
    "a = np.arange(6) + np.arange(0, 51, 10)[:, np.newaxis]\n",
    "print(a[(0, 1, 2, 3, 4), (1, 2, 3, 4, 5)])\n",
    "print(a[3:, [0, 2, 5]])\n",
    "mask = np.array([1, 0 ,1, 0, 0, 1], dtype=bool)\n",
    "print(a[mask, 2])"
   ]
  },
  {
   "cell_type": "markdown",
   "metadata": {
    "colab_type": "text",
    "id": "A_brB6BML8Bt"
   },
   "source": [
    "## 2. Numerical operations on arrays\n",
    "- __2 - 1. Elementwise operations__ [link](#2---1.-Elementwise-operations)\n",
    "- __2 - 2. Basic reductions__ [link](#2---2.-Basic-reductions)\n",
    "- __2 - 3. Broadcasting__ [link](#2---3.-Broadcasting)\n",
    "- __2 - 4. Array shape manipulation__ [link](#2---4.-Array-shape-manipulation)\n",
    "- __2 - 5. Sorting data__ [link](#2---5.-Sorting-data)"
   ]
  },
  {
   "cell_type": "markdown",
   "metadata": {
    "colab_type": "text",
    "id": "84pYd1L1L8Bt"
   },
   "source": [
    "### 2 - 1. Elementwise operations\n",
    "\n",
    "- __Basic operations__\n",
    "- __Other operations__"
   ]
  },
  {
   "cell_type": "markdown",
   "metadata": {
    "colab_type": "text",
    "id": "jSDxh84VL8Bu"
   },
   "source": [
    "- #### Basic operations\n",
    "\n",
    "&emsp;&emsp;With scalars: NumPy array는 아래처럼 scalar로 계산이 가능합니다.\n",
    "```python\n",
    "a = np.array([1, 2, 3, 4])\n",
    "print(a + 1)\n",
    "print(2**a)\n",
    "```"
   ]
  },
  {
   "cell_type": "code",
   "execution_count": 28,
   "metadata": {
    "colab": {},
    "colab_type": "code",
    "id": "hmPm1ZD6L8Bu",
    "outputId": "3a364f82-c2e6-44e3-bf08-45295d8e8f5d",
    "scrolled": true
   },
   "outputs": [
    {
     "name": "stdout",
     "output_type": "stream",
     "text": [
      "[2 3 4 5]\n",
      "[ 2  4  8 16]\n"
     ]
    }
   ],
   "source": [
    "a = np.array([1, 2, 3, 4])\n",
    "print(a + 1)\n",
    "print(2**a)"
   ]
  },
  {
   "cell_type": "markdown",
   "metadata": {
    "colab_type": "text",
    "id": "EgTE4haeL8Bx"
   },
   "source": [
    "&emsp;&emsp;모든 산술의 경우 각 요소별로 적용됩니다.\n",
    "```python\n",
    "a = np.array([1, 2, 3, 4])\n",
    "b = np.ones(4) + 1 # [2., 2., 2., 2.] (숫자 옆 .은 소수점을 나타냄. 즉, type은 float64)\n",
    "print(a - b) # [1 - 2., 2 - 2., 3 - 2., 4 - 2.]\n",
    "print(a * b) # [1 * 2., 2 * 2., 3 * 2., 4 * 2.]\n",
    "```"
   ]
  },
  {
   "cell_type": "code",
   "execution_count": 29,
   "metadata": {
    "colab": {},
    "colab_type": "code",
    "id": "z2waVoQgL8By",
    "outputId": "25841f89-b87c-4c1d-999c-dd4ef0a24ae3"
   },
   "outputs": [
    {
     "name": "stdout",
     "output_type": "stream",
     "text": [
      "[-1.  0.  1.  2.]\n",
      "[2. 4. 6. 8.]\n"
     ]
    }
   ],
   "source": [
    "a = np.array([1, 2, 3, 4])\n",
    "b = np.ones(4) + 1 # [2., 2., 2., 2.] (숫자 옆 .은 소수점을 나타냄. 즉, type은 float64)\n",
    "print(a - b) # [1 - 2., 2 - 2., 3 - 2., 4 - 2.]\n",
    "print(a * b) # [1 * 2., 2 * 2., 3 * 2., 4 * 2.]"
   ]
  },
  {
   "cell_type": "markdown",
   "metadata": {
    "colab_type": "text",
    "id": "zESl5fpXL8Bz"
   },
   "source": [
    "&emsp;&emsp;NumPy의 연산은 Python의 연산보다 빠릅니다.\n",
    "\n",
    "```python\n",
    "print(\"NumPy loop\")\n",
    "a = np.arange(10000)\n",
    "%timeit a + 1\n",
    "\n",
    "print(\"Python for loop\")\n",
    "l = range(10000)\n",
    "%timeit [i + 1 for i in l] \n",
    "```"
   ]
  },
  {
   "cell_type": "code",
   "execution_count": 30,
   "metadata": {
    "colab": {},
    "colab_type": "code",
    "id": "siF2DHhlL8B0",
    "outputId": "2432e977-46e1-4741-948b-91b8543d3c83"
   },
   "outputs": [
    {
     "name": "stdout",
     "output_type": "stream",
     "text": [
      "NumPy loop\n",
      "5.38 µs ± 69.4 ns per loop (mean ± std. dev. of 7 runs, 100000 loops each)\n",
      "Python for loop\n",
      "476 µs ± 1.94 µs per loop (mean ± std. dev. of 7 runs, 1000 loops each)\n"
     ]
    }
   ],
   "source": [
    "print(\"NumPy loop\")\n",
    "a = np.arange(10000)\n",
    "%timeit a + 1\n",
    "\n",
    "print(\"Python for loop\")\n",
    "l = range(10000)\n",
    "%timeit [i + 1 for i in l]"
   ]
  },
  {
   "cell_type": "markdown",
   "metadata": {
    "colab_type": "text",
    "id": "AQPBauqpL8B3"
   },
   "source": [
    "- #### Other operations\n",
    "\n",
    "&emsp;&emsp;Comparisons: 비교 (요소의 각 자리별 값을 비교)\n",
    "\n",
    "```python\n",
    "a = np.array([1, 2, 3, 4])\n",
    "b = np.array([4, 2, 2, 4])\n",
    "\n",
    "print(a == b) # [1 == 4, 2 == 2, 3 == 2, 4 == 4]\n",
    "print(a > b) # [1 > 4, 2 > 2, 3 > 2, 4 > 4]\n",
    "```"
   ]
  },
  {
   "cell_type": "code",
   "execution_count": 31,
   "metadata": {
    "colab": {},
    "colab_type": "code",
    "id": "FMyrkPvKL8B4",
    "outputId": "94b15ce5-c176-46ff-d316-e35591cb461e"
   },
   "outputs": [
    {
     "name": "stdout",
     "output_type": "stream",
     "text": [
      "[False  True False  True]\n",
      "[False False  True False]\n"
     ]
    }
   ],
   "source": [
    "a = np.array([1, 2, 3, 4])\n",
    "b = np.array([4, 2, 2, 4])\n",
    "\n",
    "print(a == b) # [1 == 4, 2 == 2, 3 == 2, 4 == 4]\n",
    "print(a > b) # [1 > 4, 2 > 2, 3 > 2, 4 > 4]"
   ]
  },
  {
   "cell_type": "markdown",
   "metadata": {
    "colab_type": "text",
    "id": "kbkRCWxbL8B7"
   },
   "source": [
    "&emsp;&emsp;Array-wise comparisons: 배열 별 비교\n",
    "\n",
    "```python\n",
    "a = np.array([1, 2, 3, 4])\n",
    "b = np.array([4, 2, 2, 4])\n",
    "c = np.array([1, 2, 3, 4])\n",
    "\n",
    "print(np.array_equal(a, b))\n",
    "print(np.array_equal(a, c))\n",
    "```"
   ]
  },
  {
   "cell_type": "code",
   "execution_count": 32,
   "metadata": {
    "colab": {},
    "colab_type": "code",
    "id": "kcV5JXCNL8B7",
    "outputId": "f2e3ee66-125e-43a4-c32a-551f3f262264"
   },
   "outputs": [
    {
     "name": "stdout",
     "output_type": "stream",
     "text": [
      "False\n",
      "True\n"
     ]
    }
   ],
   "source": [
    "a = np.array([1, 2, 3, 4])\n",
    "b = np.array([4, 2, 2, 4])\n",
    "c = np.array([1, 2, 3, 4])\n",
    "\n",
    "print(np.array_equal(a, b))\n",
    "print(np.array_equal(a, c))"
   ]
  },
  {
   "cell_type": "markdown",
   "metadata": {
    "colab_type": "text",
    "id": "LI3jSyRvL8B9"
   },
   "source": [
    "&emsp;&emsp;Logical operations: 논리 연산\n",
    "\n",
    "```python\n",
    "a = np.array([1, 1, 0, 0], dtype=bool)\n",
    "b = np.array([1, 0, 1, 0], dtype=bool)\n",
    "\n",
    "print(np.logical_or(a, b))\n",
    "print(np.logical_and(a, b))\n",
    "```"
   ]
  },
  {
   "cell_type": "code",
   "execution_count": 33,
   "metadata": {
    "colab": {},
    "colab_type": "code",
    "id": "vjcMcyv2L8B-",
    "outputId": "cb1cfd06-015c-480d-e9dd-5ff5c9154396"
   },
   "outputs": [
    {
     "name": "stdout",
     "output_type": "stream",
     "text": [
      "[ True  True  True False]\n",
      "[ True False False False]\n"
     ]
    }
   ],
   "source": [
    "a = np.array([1, 1, 0, 0], dtype=bool)\n",
    "b = np.array([1, 0, 1, 0], dtype=bool)\n",
    "\n",
    "print(np.logical_or(a, b))\n",
    "print(np.logical_and(a, b))"
   ]
  },
  {
   "cell_type": "markdown",
   "metadata": {
    "colab_type": "text",
    "id": "OxambZPiL8B_"
   },
   "source": [
    "&emsp;&emsp;Transcendental functions: 초월함수\n",
    "\n",
    "```python\n",
    "a = np.arange(5)\n",
    "\n",
    "print(np.sin(a))\n",
    "print(np.log(a))\n",
    "print(np.exp(a))\n",
    "```"
   ]
  },
  {
   "cell_type": "code",
   "execution_count": 34,
   "metadata": {
    "colab": {},
    "colab_type": "code",
    "id": "6xZQ3HIKL8CA",
    "outputId": "cdcf7d19-4809-4c10-ba07-c900fe472447"
   },
   "outputs": [
    {
     "name": "stdout",
     "output_type": "stream",
     "text": [
      "[ 0.          0.84147098  0.90929743  0.14112001 -0.7568025 ]\n",
      "[      -inf 0.         0.69314718 1.09861229 1.38629436]\n",
      "[ 1.          2.71828183  7.3890561  20.08553692 54.59815003]\n"
     ]
    }
   ],
   "source": [
    "a = np.arange(5)\n",
    "\n",
    "print(np.sin(a))\n",
    "print(np.log(a))\n",
    "print(np.exp(a))"
   ]
  },
  {
   "cell_type": "markdown",
   "metadata": {
    "colab_type": "text",
    "id": "t5d8wXXUL8CI"
   },
   "source": [
    "&emsp;&emsp;서로의 크기가 맞지 않을 경우 오류 발생\n",
    "```python\n",
    "a = np.arange(4) # shape = (4, )\n",
    "a + np.array([1, 2]) # shape = (2, )\n",
    "```"
   ]
  },
  {
   "cell_type": "code",
   "execution_count": 35,
   "metadata": {
    "colab": {},
    "colab_type": "code",
    "id": "Ab0_jkP6L8CI",
    "outputId": "54376068-276b-4b0c-da14-832e23814189",
    "scrolled": true
   },
   "outputs": [
    {
     "data": {
      "text/plain": [
       "array([[1, 2, 3, 4],\n",
       "       [2, 3, 4, 5]])"
      ]
     },
     "execution_count": 35,
     "metadata": {},
     "output_type": "execute_result"
    }
   ],
   "source": [
    "a = np.arange(4) # shape = (4, )\n",
    "a + np.array([[1], [2]]) # shape = (2, )"
   ]
  },
  {
   "cell_type": "markdown",
   "metadata": {
    "colab_type": "text",
    "id": "R58h7exNL8CL"
   },
   "source": [
    "&emsp;&emsp;Transposition: 전치\n",
    "\n",
    "```python\n",
    "a = np.diag(np.arange(1, 3), 1)\n",
    "print(a)\n",
    "print(a.T)\n",
    "```"
   ]
  },
  {
   "cell_type": "code",
   "execution_count": 36,
   "metadata": {
    "colab": {},
    "colab_type": "code",
    "id": "NZnuZIBsL8CL",
    "outputId": "b208f60f-8ac6-4f4d-a6c4-5f4ffe0e393f"
   },
   "outputs": [
    {
     "name": "stdout",
     "output_type": "stream",
     "text": [
      "[[0 1 0]\n",
      " [0 0 2]\n",
      " [0 0 0]]\n",
      "[[0 0 0]\n",
      " [1 0 0]\n",
      " [0 2 0]]\n"
     ]
    }
   ],
   "source": [
    "a = np.diag(np.arange(1, 3), 1)\n",
    "print(a)\n",
    "print(a.T)"
   ]
  },
  {
   "cell_type": "markdown",
   "metadata": {
    "colab_type": "text",
    "id": "8IaJ4EGpL8CN"
   },
   "source": [
    "### 2 - 2. Basic reductions\n",
    "\n",
    "- __Computing sums__\n",
    "- __Other reductions__"
   ]
  },
  {
   "cell_type": "markdown",
   "metadata": {
    "colab_type": "text",
    "id": "avNKKmClL8CO"
   },
   "source": [
    "- #### Computing sums\n",
    "\n",
    "&emsp;&emsp;.sum() 메소드를 이용해 모든 array의 값을 더할 수 있습니다. (1차 배열의 경우...)\n",
    "```python\n",
    "x = np.array([1, 2, 3, 4])\n",
    "print(np.sum(x))\n",
    "print(x.sum)\n",
    "```"
   ]
  },
  {
   "cell_type": "code",
   "execution_count": 37,
   "metadata": {
    "colab": {},
    "colab_type": "code",
    "id": "ruFFjY9wL8CO",
    "outputId": "c353a5a8-b53f-42f5-bb19-13d5ad27981d"
   },
   "outputs": [
    {
     "name": "stdout",
     "output_type": "stream",
     "text": [
      "10\n",
      "10\n"
     ]
    }
   ],
   "source": [
    "x = np.array([1, 2, 3, 4])\n",
    "print(np.sum(x))\n",
    "print(x.sum())"
   ]
  },
  {
   "cell_type": "markdown",
   "metadata": {
    "colab_type": "text",
    "id": "p6WufSTtL8CQ"
   },
   "source": [
    "&emsp;&emsp;2차 배열부터는 차원(행, 열)으로 더하기가 가능합니다.\n",
    "\n",
    "```python\n",
    "x = np.array([[1, 1], [2, 2]])\n",
    "print(x)\n",
    "\n",
    "# columns (first dimension)\n",
    "print(x.sum(axis=0))   \n",
    "print(x[:, 0].sum(), x[:, 1].sum())\n",
    "\n",
    "# rows (second dimension)\n",
    "print(x.sum(axis=1))   \n",
    "print(x[0, :].sum(), x[1, :].sum())\n",
    "```\n",
    "<img src=\"asset/reductions.png\" width=20%>"
   ]
  },
  {
   "cell_type": "code",
   "execution_count": 38,
   "metadata": {
    "colab": {},
    "colab_type": "code",
    "id": "2wHS6fNXL8CR",
    "outputId": "060a2f09-d371-44aa-9f7f-cdb8664bd89b"
   },
   "outputs": [
    {
     "name": "stdout",
     "output_type": "stream",
     "text": [
      "[[1 1]\n",
      " [2 2]]\n",
      "[3 3]\n",
      "3 3\n",
      "[2 4]\n",
      "2 4\n"
     ]
    }
   ],
   "source": [
    "x = np.array([[1, 1], [2, 2]])\n",
    "print(x)\n",
    "\n",
    "# columns (first dimension)\n",
    "print(x.sum(axis=0))   \n",
    "print(x[:, 0].sum(), x[:, 1].sum())\n",
    "\n",
    "# rows (second dimension)\n",
    "print(x.sum(axis=1))   \n",
    "print(x[0, :].sum(), x[1, :].sum())"
   ]
  },
  {
   "cell_type": "markdown",
   "metadata": {
    "colab_type": "text",
    "id": "x0zaNjzvL8CT"
   },
   "source": [
    "- #### Other reductions\n",
    "\n",
    "&emsp;&emsp;Extrema:\n",
    "```python\n",
    "x = np.array([1, 4, 7, 2, 3])\n",
    "\n",
    "print(x.min(), x.max())\n",
    "print(x.argmin(), x.argmax()) # index of minimum, index of maximum\n",
    "```"
   ]
  },
  {
   "cell_type": "code",
   "execution_count": 39,
   "metadata": {
    "colab": {},
    "colab_type": "code",
    "id": "OrlZYFihL8CU",
    "outputId": "b5a34aec-46d5-43f4-81dd-1f8e22e89136"
   },
   "outputs": [
    {
     "name": "stdout",
     "output_type": "stream",
     "text": [
      "1 7\n",
      "0 2\n"
     ]
    }
   ],
   "source": [
    "x = np.array([1, 4, 7, 2, 3])\n",
    "\n",
    "print(x.min(), x.max())\n",
    "print(x.argmin(), x.argmax()) # index of minimum, index of maximum"
   ]
  },
  {
   "cell_type": "markdown",
   "metadata": {
    "colab_type": "text",
    "id": "2BTnzPbKL8CV"
   },
   "source": [
    "&emsp;&emsp;Logical operations: 논리 연산\n",
    "\n",
    "```python\n",
    "print(np.all([True, True, False]))\n",
    "print(np.any([True, True, False]))\n",
    "```"
   ]
  },
  {
   "cell_type": "code",
   "execution_count": 40,
   "metadata": {
    "colab": {},
    "colab_type": "code",
    "id": "7z_Am4FqL8CW",
    "outputId": "55f01455-3f0a-4050-c087-2eecfb9795e9",
    "scrolled": true
   },
   "outputs": [
    {
     "name": "stdout",
     "output_type": "stream",
     "text": [
      "False\n",
      "True\n"
     ]
    }
   ],
   "source": [
    "print(np.all([True, True, False]))\n",
    "print(np.any([True, True, False]))"
   ]
  },
  {
   "cell_type": "markdown",
   "metadata": {
    "colab_type": "text",
    "id": "4VvrS-kVL8CX"
   },
   "source": [
    "&emsp;&emsp;Statistics: 통계\n",
    "```python\n",
    "x = np.array([1, 2, 3, 1])\n",
    "y = np.array([[1, 2, 3], [5, 6, 1]])\n",
    "\n",
    "print(x.mean())\n",
    "print(np.median(x))\n",
    "print(np.median(y, axis=-1)) # last axis\n",
    "print(x.std()) # full population standard dev.\n",
    "```\n"
   ]
  },
  {
   "cell_type": "code",
   "execution_count": 41,
   "metadata": {
    "colab": {},
    "colab_type": "code",
    "id": "uxbgeL09L8CY",
    "outputId": "fee7756f-7e39-4483-94bb-788523e755b1"
   },
   "outputs": [
    {
     "name": "stdout",
     "output_type": "stream",
     "text": [
      "1.75\n",
      "1.5\n",
      "[2. 5.]\n",
      "0.82915619758885\n"
     ]
    }
   ],
   "source": [
    "x = np.array([1, 2, 3, 1])\n",
    "y = np.array([[1, 2, 3], [5, 6, 1]])\n",
    "\n",
    "print(x.mean()) # 평균\n",
    "print(np.median(x)) # 중앙값\n",
    "print(np.median(y, axis=-1)) # last axis\n",
    "print(x.std()) # full population standard dev."
   ]
  },
  {
   "cell_type": "markdown",
   "metadata": {
    "colab_type": "text",
    "id": "wfISg32ML8CZ"
   },
   "source": [
    "### 2 - 3. Broadcasting\n",
    "\n",
    "- __Broadcasting__\n",
    "- __Remark__"
   ]
  },
  {
   "cell_type": "markdown",
   "metadata": {
    "colab_type": "text",
    "id": "WiiV-75YL8CZ"
   },
   "source": [
    "- #### Broadcasting\n",
    "\n",
    "\n",
    "&emsp;&emsp;위의 사진처럼 첫번째의 경우\n",
    "```python\n",
    "a = np.tile(np.arange(0, 40, 10), (3, 1)).T\n",
    "b = np.tile(np.array([0, 1, 2]), (4, 1))\n",
    "print(a)\n",
    "print(b)\n",
    "\n",
    "print(a + b)\n",
    "```\n",
    "&emsp;&emsp;두번째의 경우\n",
    "```python\n",
    "a = np.tile(np.arange(0, 40, 10), (3, 1)).T\n",
    "b = np.array([0, 1, 2])\n",
    "print(a)\n",
    "print(b)\n",
    "\n",
    "print(a + b)\n",
    "```\n",
    "&emsp;&emsp;세번째의 경우\n",
    "```python\n",
    "a = np.arange(0, 40, 10).T\n",
    "b = np.array([0, 1, 2])\n",
    "print(a)\n",
    "print(b)\n",
    "\n",
    "print(a + b)\n",
    "```\n",
    "서로 부족한 차원이나 크기를 늘려서 계산하게 된다.<br>\n",
    "즉, 두번째의 경우 b의 1차원 배열을 2차원으로 늘려 계산 (각 행의 값은 첫번째 행과 동일),<br>\n",
    "세번째의 경우는 a의 1차원의 크기를 4로 늘려 계산 (각 열의 값은 첫번째 열과 동일, b의 경우는 두번째 경우처럼 2차원으로 증가되어 계산)<br>"
   ]
  },
  {
   "cell_type": "code",
   "execution_count": 42,
   "metadata": {
    "colab": {},
    "colab_type": "code",
    "id": "VuSpqwL7L8Ca",
    "outputId": "e6ae9f37-6d5e-4f52-8ff6-2b2a2b332024"
   },
   "outputs": [
    {
     "name": "stdout",
     "output_type": "stream",
     "text": [
      "[[ 0  0  0]\n",
      " [10 10 10]\n",
      " [20 20 20]\n",
      " [30 30 30]]\n",
      "[[0 1 2]\n",
      " [0 1 2]\n",
      " [0 1 2]\n",
      " [0 1 2]]\n",
      "[[ 0  1  2]\n",
      " [10 11 12]\n",
      " [20 21 22]\n",
      " [30 31 32]]\n"
     ]
    }
   ],
   "source": [
    "a = np.tile(np.arange(0, 40, 10), (3, 1)).T\n",
    "b = np.tile(np.array([0, 1, 2]), (4, 1))\n",
    "print(a)\n",
    "print(b)\n",
    "\n",
    "print(a + b)"
   ]
  },
  {
   "cell_type": "code",
   "execution_count": 43,
   "metadata": {
    "colab": {},
    "colab_type": "code",
    "id": "P4xpmysdL8Cb",
    "outputId": "934a73b8-d243-4d87-de80-604bd50fe415"
   },
   "outputs": [
    {
     "name": "stdout",
     "output_type": "stream",
     "text": [
      "[[ 0  0  0]\n",
      " [10 10 10]\n",
      " [20 20 20]\n",
      " [30 30 30]]\n",
      "[0 1 2]\n",
      "[[ 0  1  2]\n",
      " [10 11 12]\n",
      " [20 21 22]\n",
      " [30 31 32]]\n"
     ]
    }
   ],
   "source": [
    "a = np.tile(np.arange(0, 40, 10), (3, 1)).T\n",
    "b = np.array([0, 1, 2])\n",
    "print(a)\n",
    "print(b)\n",
    "\n",
    "print(a + b)"
   ]
  },
  {
   "cell_type": "code",
   "execution_count": 44,
   "metadata": {
    "colab": {},
    "colab_type": "code",
    "id": "IvjZIaCPL8Cc",
    "outputId": "59c24c7c-ba04-4a72-8a7a-351c22f66cf2",
    "scrolled": true
   },
   "outputs": [
    {
     "name": "stdout",
     "output_type": "stream",
     "text": [
      "[[ 0]\n",
      " [10]\n",
      " [20]\n",
      " [30]]\n",
      "[0 1 2]\n",
      "[[ 0  1  2]\n",
      " [10 11 12]\n",
      " [20 21 22]\n",
      " [30 31 32]]\n"
     ]
    }
   ],
   "source": [
    "a = np.arange(0, 40, 10)\n",
    "a = a[:, np.newaxis]\n",
    "b = np.array([0, 1, 2])\n",
    "print(a)\n",
    "print(b)\n",
    "\n",
    "print(a + b)"
   ]
  },
  {
   "cell_type": "markdown",
   "metadata": {
    "colab_type": "text",
    "id": "p5Bnge3mL8Ce"
   },
   "source": [
    "- #### Remark\n",
    "\n",
    "&emsp;&emsp;.ogrid[]를 이용해 이전의 그래프 그리기 예제에서 만든 x, y에 대해서 한번에 만들 수 있습니다.\n",
    "\n",
    "```python\n",
    "x, y = np.ogrid[0:5, 0:5]\n",
    "print(x)\n",
    "print(y)\n",
    "```"
   ]
  },
  {
   "cell_type": "code",
   "execution_count": 45,
   "metadata": {
    "colab": {},
    "colab_type": "code",
    "id": "v2NUMlTxL8Cf",
    "outputId": "a5b9789d-95f5-4248-c461-09dcdb6cd0b0"
   },
   "outputs": [
    {
     "name": "stdout",
     "output_type": "stream",
     "text": [
      "[[0]\n",
      " [1]\n",
      " [2]\n",
      " [3]\n",
      " [4]]\n",
      "[[0 1 2 3 4]]\n"
     ]
    }
   ],
   "source": [
    "x, y = np.ogrid[0:5, 0:5]\n",
    "print(x)\n",
    "print(y)"
   ]
  },
  {
   "cell_type": "markdown",
   "metadata": {
    "colab_type": "text",
    "id": "qt1C9cSVL8Ch"
   },
   "source": [
    "&emsp;&emsp;또한 np.mgrid[]를 이용해 이전의 Broadcasting의 예제에서 사용한 array를 한번에 만들 수 있습니다.\n",
    "```python\n",
    "x, y = np.mgrid[0:40:10, 0:3]\n",
    "print(x)\n",
    "print(y)\n",
    "```"
   ]
  },
  {
   "cell_type": "code",
   "execution_count": 46,
   "metadata": {
    "colab": {},
    "colab_type": "code",
    "id": "YqciuIX5L8Ch",
    "outputId": "43d9dd3b-2794-4686-af95-e378b2209cd7"
   },
   "outputs": [
    {
     "name": "stdout",
     "output_type": "stream",
     "text": [
      "[[ 0  0  0]\n",
      " [10 10 10]\n",
      " [20 20 20]\n",
      " [30 30 30]]\n",
      "[[0 1 2]\n",
      " [0 1 2]\n",
      " [0 1 2]\n",
      " [0 1 2]]\n"
     ]
    }
   ],
   "source": [
    "x, y = np.mgrid[0:40:10, 0:3]\n",
    "print(x)\n",
    "print(y)"
   ]
  },
  {
   "cell_type": "markdown",
   "metadata": {
    "colab_type": "text",
    "id": "5nt77_riL8Cj"
   },
   "source": [
    "### 2 - 4. Array shape manipulation\n",
    "\n",
    "- __Flattening__\n",
    "- __Reshaping__\n",
    "- __Adding a dimension__\n",
    "- __Dimension shuffling__\n",
    "- __Resizing__"
   ]
  },
  {
   "cell_type": "markdown",
   "metadata": {
    "colab_type": "text",
    "id": "_5sbzBDxL8Cj"
   },
   "source": [
    "- #### Flattening\n",
    "\n",
    "&emsp;&emsp;.ravel() 메소드를 이용해 해당 array를 1차원으로 만들수 있습니다. 제일 처음의 index부터 순서대로 나열.<br>\n",
    "&emsp;&emsp;a.T의 경우 [0,0], [0,1], [1,0], [1,1], [2,0], [2,1] 순서. (아래 코드 참고)\n",
    "\n",
    "```python\n",
    "a = np.array([[1, 2, 3], [4, 5, 6]])\n",
    "print(a)\n",
    "print(a.ravel())\n",
    "\n",
    "print(a.T)\n",
    "print(a.T.ravel())\n",
    "```"
   ]
  },
  {
   "cell_type": "code",
   "execution_count": 47,
   "metadata": {
    "colab": {},
    "colab_type": "code",
    "id": "d6UmpelzL8Ck",
    "outputId": "752a1a3e-5d43-4a18-c454-5d34fc0d49e6"
   },
   "outputs": [
    {
     "name": "stdout",
     "output_type": "stream",
     "text": [
      "[[1 2 3]\n",
      " [4 5 6]]\n",
      "[1 2 3 4 5 6]\n",
      "[[1 4]\n",
      " [2 5]\n",
      " [3 6]]\n",
      "[1 4 2 5 3 6]\n"
     ]
    }
   ],
   "source": [
    "a = np.array([[1, 2, 3], [4, 5, 6]])\n",
    "print(a)\n",
    "print(a.ravel())\n",
    "\n",
    "print(a.T)\n",
    "print(a.T.ravel())"
   ]
  },
  {
   "cell_type": "markdown",
   "metadata": {
    "colab_type": "text",
    "id": "JWsvcj9dL8Cl"
   },
   "source": [
    "- #### Reshaping\n",
    "\n",
    "&emsp;&emsp;.reshape()의 메소드를 이용해 위의 array처럼 1차원의 array를 다시 2차원의 array로 변경합니다.<br>\n",
    "&emsp;&emsp;_(해당 메소드는 array의 view가 될 수도 copy가 될 수도 있습니다.)_\n",
    "\n",
    "```python\n",
    "a = np.array([[1, 2, 3], [4, 5, 6]])\n",
    "print(a)\n",
    "\n",
    "b = a.ravel()\n",
    "print(b)\n",
    "\n",
    "b = b.reshape((2, 3))\n",
    "print(b)\n",
    "```"
   ]
  },
  {
   "cell_type": "code",
   "execution_count": 48,
   "metadata": {
    "colab": {},
    "colab_type": "code",
    "id": "7kH9kQJdL8Cm",
    "outputId": "d3490b00-c590-47ce-a92d-093ef6093fa6"
   },
   "outputs": [
    {
     "name": "stdout",
     "output_type": "stream",
     "text": [
      "[[1 2 3]\n",
      " [4 5 6]]\n",
      "[1 2 3 4 5 6]\n",
      "[[1 2 3]\n",
      " [4 5 6]]\n",
      "[[1 2 3]\n",
      " [4 5 6]]\n"
     ]
    }
   ],
   "source": [
    "a = np.array([[1, 2, 3], [4, 5, 6]])\n",
    "print(a)\n",
    "\n",
    "b = a.ravel()\n",
    "print(b)\n",
    "\n",
    "print(b.reshape((2, 3)))\n",
    "print(b.reshape((2, -1)))"
   ]
  },
  {
   "cell_type": "markdown",
   "metadata": {
    "colab_type": "text",
    "id": "Ab4PxOtIL8Co"
   },
   "source": [
    "- #### Adding a dimension\n",
    "\n",
    "&emsp;&emsp;np.newaxis를 사용하여 indexing하면 array에 axis를 추가 할 수 있습니다.\n",
    "```python\n",
    "z = np.array([1, 2, 3])\n",
    "print(z)\n",
    "\n",
    "print(z[:, np.newaxis], z[:, np.newaxis].shape)\n",
    "print(z[np.newaxis, :], z[np.newaxis, :].shape)\n",
    "```"
   ]
  },
  {
   "cell_type": "code",
   "execution_count": 49,
   "metadata": {
    "colab": {},
    "colab_type": "code",
    "id": "3GONBhG-L8Cp",
    "outputId": "6696aef7-c6c1-4946-ebf3-4508b0cffb0e"
   },
   "outputs": [
    {
     "name": "stdout",
     "output_type": "stream",
     "text": [
      "[1 2 3] (3,)\n",
      "[[1]\n",
      " [2]\n",
      " [3]] (3, 1)\n",
      "[[1 2 3]] (1, 3)\n"
     ]
    }
   ],
   "source": [
    "z = np.array([1, 2, 3])\n",
    "print(z, z.shape)\n",
    "\n",
    "print(z[:, np.newaxis], z[:, np.newaxis].shape)\n",
    "print(z[np.newaxis, :], z[np.newaxis, :].shape)"
   ]
  },
  {
   "cell_type": "markdown",
   "metadata": {
    "colab_type": "text",
    "id": "SakNs_PAL8Cr"
   },
   "source": [
    "- #### Dimension shuffling\n",
    "\n",
    "&emsp;&emsp;transpose() 메소드를 이용해 해당 array의 차원을 섞을 수 있습니다.<br>\n",
    "&emsp;&emsp;아래의 예제 코드의 경우 (4, 3, 2) 모양의 array를 (3, 2, 4)로 섞었습니다.\n",
    "```python\n",
    "a = np.arange(4 * 3 * 2).reshape(4, 3, 2)\n",
    "print(a.shape)\n",
    "\n",
    "b = a.transpose(1, 2, 0) # a = a.transpose(0, 1, 2)\n",
    "print(b.shape)\n",
    "print(a[2, 1, 0])\n",
    "print(b[1, 0, 2])\n",
    "```"
   ]
  },
  {
   "cell_type": "code",
   "execution_count": 50,
   "metadata": {
    "colab": {},
    "colab_type": "code",
    "id": "hl26cM1nL8Cr",
    "outputId": "062d1cbe-2bac-4768-e3c0-d4fb95b6622a"
   },
   "outputs": [
    {
     "name": "stdout",
     "output_type": "stream",
     "text": [
      "(4, 3, 2)\n",
      "(3, 2, 4)\n",
      "14\n",
      "14\n"
     ]
    }
   ],
   "source": [
    "a = np.arange(4 * 3 * 2).reshape(4, 3, 2)\n",
    "print(a.shape)\n",
    "\n",
    "b = a.transpose(1, 2, 0) # a = a.transpose(0, 1, 2)\n",
    "print(b.shape)\n",
    "print(a[2, 1, 0])\n",
    "print(b[1, 0, 2])"
   ]
  },
  {
   "cell_type": "markdown",
   "metadata": {
    "colab_type": "text",
    "id": "F69UiquvL8Ct"
   },
   "source": [
    "- #### Resizing\n",
    "\n",
    "&emsp;&emsp;.resize() 메소드를 이용해 해당 array의 크기를 변경 할 수 있습니다.<br>\n",
    "&emsp;&emsp;사이즈가 커지는 경우 0(int, float type의 경우), False(bool type의 경우)로 작아지는 경우 요소를 제거하여 크기를 변경합니다.\n",
    "\n",
    "```python\n",
    "a = np.arange(4)\n",
    "\n",
    "a.resize((8,))\n",
    "print(a)\n",
    "\n",
    "a.resize((2,))\n",
    "print(a)\n",
    "```"
   ]
  },
  {
   "cell_type": "code",
   "execution_count": 51,
   "metadata": {
    "colab": {},
    "colab_type": "code",
    "id": "rGPBMc5TL8Ct",
    "outputId": "9377b7fa-4a4b-43fa-feb1-ccae2e142963"
   },
   "outputs": [
    {
     "name": "stdout",
     "output_type": "stream",
     "text": [
      "[0 1 2 3 0 0 0 0]\n",
      "[0 1]\n"
     ]
    }
   ],
   "source": [
    "a = np.arange(4)\n",
    "\n",
    "a.resize((8,))\n",
    "print(a)\n",
    "\n",
    "a.resize((2,))\n",
    "print(a)"
   ]
  },
  {
   "cell_type": "markdown",
   "metadata": {
    "colab_type": "text",
    "id": "YP6-K9yLL8Cv"
   },
   "source": [
    "### 2 - 5. Sorting data"
   ]
  },
  {
   "cell_type": "markdown",
   "metadata": {
    "colab_type": "text",
    "id": "ZA-Cv4WNL8Cv"
   },
   "source": [
    "&emsp;&emsp;.sort() 메소드를 이용해 array를 정렬 할 수 있습니다.\n",
    "```python\n",
    "a = np.array([[4, 3, 6], [6, 2, 1]])\n",
    "b = np.sort(a, axis=1)\n",
    "print(b)\n",
    "```"
   ]
  },
  {
   "cell_type": "code",
   "execution_count": 52,
   "metadata": {
    "colab": {},
    "colab_type": "code",
    "id": "4Z332nx2L8Cv",
    "outputId": "e744af5e-a4f5-43dc-b728-db55499e6b20"
   },
   "outputs": [
    {
     "name": "stdout",
     "output_type": "stream",
     "text": [
      "[[3 4 6]\n",
      " [1 2 6]]\n",
      "[[3 4 6]\n",
      " [1 2 6]]\n"
     ]
    }
   ],
   "source": [
    "a = np.array([[4, 3, 6], [6, 2, 1]])\n",
    "b = np.sort(a, axis=1)\n",
    "print(b)\n",
    "\n",
    "a.sort(axis=1)\n",
    "print(a)"
   ]
  },
  {
   "cell_type": "markdown",
   "metadata": {
    "colab_type": "text",
    "id": "43PN-Bt1L8Cx"
   },
   "source": [
    "&emsp;&emsp;.argsort() 메소드를 이용해 array의 fancy indexing을 할 수 있습니다.\n",
    "\n",
    "```python\n",
    "a = np.array([4, 3, 1, 2])\n",
    "j = np.argsort(a)\n",
    "print(j) # sorted index\n",
    "\n",
    "print(a[j])\n",
    "```"
   ]
  },
  {
   "cell_type": "code",
   "execution_count": 53,
   "metadata": {
    "colab": {},
    "colab_type": "code",
    "id": "V2IwPS1qL8Cx",
    "outputId": "232a6f85-f301-4bb9-d635-d5d2c5ec3360"
   },
   "outputs": [
    {
     "name": "stdout",
     "output_type": "stream",
     "text": [
      "[2 3 1 0]\n",
      "[1 2 3 4]\n"
     ]
    }
   ],
   "source": [
    "a = np.array([4, 3, 1, 2])\n",
    "j = np.argsort(a)\n",
    "print(j) # sorted index\n",
    "\n",
    "print(a[j])"
   ]
  },
  {
   "cell_type": "markdown",
   "metadata": {
    "colab_type": "text",
    "id": "w5MzEvHEL8Cz"
   },
   "source": [
    "&emsp;&emsp;아래의 메소드를 이용해 해당 array의 maxima, minima의 index값을 찾을 수 있습니다.\n",
    "```python\n",
    "a = np.array([4, 3, 1, 2])\n",
    "\n",
    "j_max = np.argmax(a) # max index\n",
    "j_min = np.argmin(a) # min index\n",
    "\n",
    "print(j_max, j_min)\n",
    "print(a[j_max], a[j_min])\n",
    "```"
   ]
  },
  {
   "cell_type": "code",
   "execution_count": 54,
   "metadata": {
    "colab": {},
    "colab_type": "code",
    "id": "77T74sgOL8C0",
    "outputId": "9d4d9adc-41e0-4422-d957-e3cf03cc676b"
   },
   "outputs": [
    {
     "name": "stdout",
     "output_type": "stream",
     "text": [
      "0 2\n",
      "4 1\n"
     ]
    }
   ],
   "source": [
    "a = np.array([4, 3, 1, 2])\n",
    "\n",
    "j_max = np.argmax(a) # max index\n",
    "j_min = np.argmin(a) # min index\n",
    "\n",
    "print(j_max, j_min)\n",
    "print(a[j_max], a[j_min])"
   ]
  },
  {
   "cell_type": "markdown",
   "metadata": {
    "colab_type": "text",
    "id": "2-Eyn1rML8C1"
   },
   "source": [
    "## 3. More elaborate arrays\n",
    "- __3 - 1. More data types__ [link](#3---1.-More-data-types)\n",
    "- __3 - 2. Structured data types__ [link](#3---2.-Structured-data-types)"
   ]
  },
  {
   "cell_type": "markdown",
   "metadata": {
    "colab_type": "text",
    "id": "GRsr7xupL8C2"
   },
   "source": [
    "### 3 - 1. More data types\n",
    "\n",
    "- __Casting__\n",
    "- __Different data type sizes__\n",
    "- __Smaller data types__"
   ]
  },
  {
   "cell_type": "markdown",
   "metadata": {
    "colab_type": "text",
    "id": "OFZAV42iL8C2"
   },
   "source": [
    "- #### Casting\n",
    "\n",
    "&emsp;&emsp;두개의 다른 type의 연산에서 더 큰 타입으로 변환됩니다.<br>\n",
    "&emsp;&emsp;즉, int와 float의 연산의 경우 해당 연산의 결과는 float로 변환됩니다.\n",
    "```python\n",
    "a = np.array([1, 2, 3])\n",
    "print(a.dtype)\n",
    "\n",
    "b = a + 1.5\n",
    "print(b.dtype)\n",
    "```"
   ]
  },
  {
   "cell_type": "code",
   "execution_count": 55,
   "metadata": {
    "colab": {},
    "colab_type": "code",
    "id": "8CSszOadL8C3",
    "outputId": "e668e52e-0618-4c69-e6fd-5ab53ae98b67"
   },
   "outputs": [
    {
     "name": "stdout",
     "output_type": "stream",
     "text": [
      "int32\n",
      "float64\n"
     ]
    }
   ],
   "source": [
    "a = np.array([1, 2, 3])\n",
    "print(a.dtype)\n",
    "\n",
    "b = a + 1.5\n",
    "print(b.dtype)"
   ]
  },
  {
   "cell_type": "markdown",
   "metadata": {
    "colab_type": "text",
    "id": "q_I4typWL8C4"
   },
   "source": [
    "&emsp;&emsp;단순 값의 변경의 경우 type이 바뀌지 않습니다.\n",
    "```python\n",
    "a = np.array([1, 2, 3])\n",
    "print(a.dtype)\n",
    "\n",
    "a[0] = 5.9     # <-- float의 데이터 값이 int로 변경되어 저장\n",
    "print(a)\n",
    "```"
   ]
  },
  {
   "cell_type": "code",
   "execution_count": 56,
   "metadata": {
    "colab": {},
    "colab_type": "code",
    "id": "CmE1uc1LL8C4",
    "outputId": "14ae79e6-0980-4b6b-f663-1d1614866ec3"
   },
   "outputs": [
    {
     "name": "stdout",
     "output_type": "stream",
     "text": [
      "int32\n",
      "[5 2 3]\n"
     ]
    }
   ],
   "source": [
    "a = np.array([1, 2, 3])\n",
    "print(a.dtype)\n",
    "\n",
    "a[0] = 5.9     # <-- float의 데이터 값이 int로 변경되어 저장\n",
    "print(a)"
   ]
  },
  {
   "cell_type": "markdown",
   "metadata": {
    "colab_type": "text",
    "id": "Nd7nBPTOL8C7"
   },
   "source": [
    "&emsp;&emsp;.astype() 메소드를 이용해 해당 array의 type을 강제로 변환할 수 있습니다.\n",
    "\n",
    "```python\n",
    "a = np.array([1.7, 1.6, 1.2])\n",
    "b = a.astype(int)\n",
    "\n",
    "print(b, b.dtype)\n",
    "```"
   ]
  },
  {
   "cell_type": "code",
   "execution_count": 57,
   "metadata": {
    "colab": {},
    "colab_type": "code",
    "id": "cvDqi9SrL8C8",
    "outputId": "89d5b393-a8e1-4f21-8f70-874dff24d8b7"
   },
   "outputs": [
    {
     "name": "stdout",
     "output_type": "stream",
     "text": [
      "[1 1 1] int32\n"
     ]
    }
   ],
   "source": [
    "a = np.array([1.7, 1.6, 1.2])\n",
    "b = a.astype(int)\n",
    "\n",
    "print(b, b.dtype)"
   ]
  },
  {
   "cell_type": "markdown",
   "metadata": {
    "colab_type": "text",
    "id": "bmO3RVbgL8C9"
   },
   "source": [
    "&emsp;&emsp;.around() 메소드를 이용해 해당 array의 float값을 반올림 할 수 있습니다.\n",
    "\n",
    "```python\n",
    "a = np.array([1.7, 1.6, 1.2])\n",
    "\n",
    "b = np.around(a)\n",
    "print(b, b.dtype)\n",
    "\n",
    "b = b.astype(int)\n",
    "print(b, b.dtype)\n",
    "```"
   ]
  },
  {
   "cell_type": "code",
   "execution_count": 58,
   "metadata": {
    "colab": {},
    "colab_type": "code",
    "id": "EYmFN-W0L8C-",
    "outputId": "f2ee7784-cc4c-417a-a536-186551ee96ce"
   },
   "outputs": [
    {
     "name": "stdout",
     "output_type": "stream",
     "text": [
      "[2. 2. 1.] float64\n",
      "[2 2 1] int32\n"
     ]
    }
   ],
   "source": [
    "a = np.array([1.7, 1.6, 1.2])\n",
    "\n",
    "b = np.around(a)\n",
    "print(b, b.dtype)\n",
    "\n",
    "b = b.astype(int)\n",
    "print(b, b.dtype)"
   ]
  },
  {
   "cell_type": "markdown",
   "metadata": {
    "colab_type": "text",
    "id": "dgKR8WXhL8C_"
   },
   "source": [
    "- #### Different data type sizes\n",
    "\n",
    "&emsp;&emsp;__Integers (signed):__<br>\n",
    "&emsp;&emsp;&emsp;&emsp;int8  - 8 bits<br>\n",
    "&emsp;&emsp;&emsp;&emsp;int16 - 16 bits<br>\n",
    "&emsp;&emsp;&emsp;&emsp;int32 - 32 bits (32-bit 시스템의 int와 같음)<br>\n",
    "&emsp;&emsp;&emsp;&emsp;int64 - 64 bits (64-bit 시스템의 int와 같음)<br>\n",
    "\n",
    "```python\n",
    "print(np.array([1], dtype=int).dtype)\n",
    "\n",
    "print(np.iinfo(np.int8).max, 2**7 - 1)\n",
    "print(np.iinfo(np.int16).max, 2**15 - 1)\n",
    "print(np.iinfo(np.int32).max, 2**31 - 1)\n",
    "print(np.iinfo(np.int64).max, 2**63 - 1)\n",
    "```"
   ]
  },
  {
   "cell_type": "code",
   "execution_count": 59,
   "metadata": {
    "colab": {},
    "colab_type": "code",
    "id": "_N5V6tKQL8C_",
    "outputId": "1cd3cfa0-523b-4aeb-f2cb-2bddd3ab9e0b"
   },
   "outputs": [
    {
     "name": "stdout",
     "output_type": "stream",
     "text": [
      "int32\n",
      "127 127\n",
      "32767 32767\n",
      "2147483647 2147483647\n",
      "9223372036854775807 9223372036854775807\n"
     ]
    }
   ],
   "source": [
    "print(np.array([1], dtype=int).dtype)\n",
    "\n",
    "print(np.iinfo(np.int8).max, 2**7 - 1)\n",
    "print(np.iinfo(np.int16).max, 2**15 - 1)\n",
    "print(np.iinfo(np.int32).max, 2**31 - 1)\n",
    "print(np.iinfo(np.int64).max, 2**63 - 1)"
   ]
  },
  {
   "cell_type": "markdown",
   "metadata": {
    "colab_type": "text",
    "id": "KC7EAJwsL8DA"
   },
   "source": [
    "&emsp;&emsp;__Unsigned integers:__<br>\n",
    "&emsp;&emsp;&emsp;&emsp;uint8  - 8 bits<br>\n",
    "&emsp;&emsp;&emsp;&emsp;uint16 - 16 bits<br>\n",
    "&emsp;&emsp;&emsp;&emsp;uint32 - 32 bits<br>\n",
    "&emsp;&emsp;&emsp;&emsp;uint64 - 64 bits<br>\n",
    "\n",
    "```python\n",
    "print(np.iinfo(np.uint8).max, 2**8 - 1)\n",
    "print(np.iinfo(np.uint16).max, 2**16 - 1)\n",
    "print(np.iinfo(np.uint32).max, 2**32 - 1)\n",
    "print(np.iinfo(np.uint64).max, 2**64 - 1)\n",
    "```"
   ]
  },
  {
   "cell_type": "code",
   "execution_count": 60,
   "metadata": {
    "colab": {},
    "colab_type": "code",
    "id": "yYwkgB_jL8DB",
    "outputId": "7237bbe2-099e-4f61-ae6b-79e39e862a9f"
   },
   "outputs": [
    {
     "name": "stdout",
     "output_type": "stream",
     "text": [
      "255 255\n",
      "65535 65535\n",
      "4294967295 4294967295\n",
      "18446744073709551615 18446744073709551615\n"
     ]
    }
   ],
   "source": [
    "print(np.iinfo(np.uint8).max, 2**8 - 1)\n",
    "print(np.iinfo(np.uint16).max, 2**16 - 1)\n",
    "print(np.iinfo(np.uint32).max, 2**32 - 1)\n",
    "print(np.iinfo(np.uint64).max, 2**64 - 1)"
   ]
  },
  {
   "cell_type": "markdown",
   "metadata": {
    "colab_type": "text",
    "id": "0zkqW8WkL8DC"
   },
   "source": [
    "&emsp;&emsp;__Floating-point numbers:__<br>\n",
    "&emsp;&emsp;&emsp;&emsp;float16\t - 16 bits<br>\n",
    "&emsp;&emsp;&emsp;&emsp;float32  - 32 bits<br>\n",
    "&emsp;&emsp;&emsp;&emsp;float64  - 64 bits (float와 같음)<br>\n",
    "&emsp;&emsp;&emsp;&emsp;float96  - 96 bits, platform-dependent (np.longdouble와 같음)<br>\n",
    "&emsp;&emsp;&emsp;&emsp;float128 - 128 bits, platform-dependent (np.longdouble와 같음)<br>\n",
    "```python\n",
    "print(np.finfo(np.float32).eps)\n",
    "print(np.finfo(np.float64).eps)\n",
    "print(np.float32(1e-8) + np.float32(1) == 1)\n",
    "print(np.float64(1e-8) + np.float64(1) == 1)\n",
    "print(np.float64(2e-17) + np.float64(1) == 1)\n",
    "```"
   ]
  },
  {
   "cell_type": "code",
   "execution_count": 61,
   "metadata": {
    "colab": {},
    "colab_type": "code",
    "id": "SOBIDxqiL8DC",
    "outputId": "0f458a4c-614c-4348-b8e9-a2d93cb606a6"
   },
   "outputs": [
    {
     "name": "stdout",
     "output_type": "stream",
     "text": [
      "1.1920929e-07\n",
      "2.220446049250313e-16\n",
      "True\n",
      "False\n",
      "True\n"
     ]
    }
   ],
   "source": [
    "print(np.finfo(np.float32).eps)\n",
    "print(np.finfo(np.float64).eps)\n",
    "print(np.float32(1e-8) + np.float32(1) == 1)\n",
    "print(np.float64(1e-8) + np.float64(1) == 1)\n",
    "print(np.float64(2e-17) + np.float64(1) == 1)"
   ]
  },
  {
   "cell_type": "markdown",
   "metadata": {
    "colab_type": "text",
    "id": "B84LOMdLL8DD"
   },
   "source": [
    "### 3 - 2. Structured data types"
   ]
  },
  {
   "cell_type": "markdown",
   "metadata": {
    "colab_type": "text",
    "id": "6V9AGGUOL8DE"
   },
   "source": [
    "&emsp;&emsp;NumPy의 array는 직접 구조의 type을 명시하여 만들 수 있습니다.<br>\n",
    "&emsp;&emsp;아래와 같은 구조로 array를 만들고 싶은 경우\n",
    "> sensor_code: 4-character string<br>\n",
    "> position: float<br>\n",
    "> value: float<br>\n",
    "\n",
    "아래의 코드를 이용해 만들 수 있습니다.\n",
    "```python\n",
    "samples = np.zeros((6,), dtype=[('sensor_code', 'S4'), ('position', float), ('value', float)])\n",
    "\n",
    "print(samples.ndim, samples.shape)\n",
    "print(samples.dtype.names, samples.dtype)\n",
    "\n",
    "samples[:] = [('ALFA',   1, 0.37), ('BETA', 1, 0.11), ('TAU', 1,   0.13),\n",
    "              ('ALFA', 1.5, 0.37), ('ALFA', 3, 0.11), ('TAU', 1.2, 0.13)]\n",
    "print(samples)\n",
    "```"
   ]
  },
  {
   "cell_type": "code",
   "execution_count": 62,
   "metadata": {
    "colab": {},
    "colab_type": "code",
    "id": "PXfiusSmL8DE",
    "outputId": "580f7139-e49a-449c-ce1c-6c9364414651"
   },
   "outputs": [
    {
     "name": "stdout",
     "output_type": "stream",
     "text": [
      "1 (6,)\n",
      "('sensor_code', 'position', 'value') [('sensor_code', 'S4'), ('position', '<f8'), ('value', '<f8')]\n",
      "[(b'ALFA', 1. , 0.37) (b'BETA', 1. , 0.11) (b'TAU', 1. , 0.13)\n",
      " (b'ALFA', 1.5, 0.37) (b'ALFA', 3. , 0.11) (b'TAU', 1.2, 0.13)]\n"
     ]
    }
   ],
   "source": [
    "samples = np.zeros((6,), dtype=[('sensor_code', 'S4'), ('position', float), ('value', float)])\n",
    "\n",
    "print(samples.ndim, samples.shape)\n",
    "print(samples.dtype.names, samples.dtype)\n",
    "\n",
    "samples[:] = [('ALFA',   1, 0.37), ('BETA', 1, 0.11), ('TAU', 1,   0.13),\n",
    "              ('ALFA', 1.5, 0.37), ('ALFA', 3, 0.11), ('TAU', 1.2, 0.13)]\n",
    "print(samples)"
   ]
  },
  {
   "cell_type": "markdown",
   "metadata": {
    "colab_type": "text",
    "id": "7cbvP7TXL8DF"
   },
   "source": [
    "&emsp;&emsp;해당 필드에 접근은 필드의 이름으로 할 수 있습니다.\n",
    "\n",
    "```python\n",
    "print(samples['sensor_code'])\n",
    "print(samples['value'])\n",
    "print(samples[0])\n",
    "print(samples[0]['sensor_code'])\n",
    "```"
   ]
  },
  {
   "cell_type": "code",
   "execution_count": 63,
   "metadata": {
    "colab": {},
    "colab_type": "code",
    "id": "darM9RshL8DG",
    "outputId": "a32016de-e1d3-49bf-8ff9-1b39baa07e65"
   },
   "outputs": [
    {
     "name": "stdout",
     "output_type": "stream",
     "text": [
      "[b'ALFA' b'BETA' b'TAU' b'ALFA' b'ALFA' b'TAU']\n",
      "[0.37 0.11 0.13 0.37 0.11 0.13]\n",
      "(b'ALFA', 1., 0.37)\n",
      "b'ALFA'\n"
     ]
    }
   ],
   "source": [
    "print(samples['sensor_code'])\n",
    "print(samples['value'])\n",
    "print(samples[0])\n",
    "print(samples[0]['sensor_code'])"
   ]
  },
  {
   "cell_type": "markdown",
   "metadata": {
    "colab_type": "text",
    "id": "IZ3ZvnjuL8DH"
   },
   "source": [
    "&emsp;&emsp;다중 필드로 값을 가져올 수 있습니다.\n",
    "\n",
    "```python\n",
    "print(samples[['position', 'value']])\n",
    "```"
   ]
  },
  {
   "cell_type": "code",
   "execution_count": 64,
   "metadata": {
    "colab": {},
    "colab_type": "code",
    "id": "hp8nsDmJL8DH",
    "outputId": "d195d581-3f77-4f29-d378-3d8bed2e0ced"
   },
   "outputs": [
    {
     "name": "stdout",
     "output_type": "stream",
     "text": [
      "[(1. , 0.37) (1. , 0.11) (1. , 0.13) (1.5, 0.37) (3. , 0.11) (1.2, 0.13)]\n"
     ]
    }
   ],
   "source": [
    "print(samples[['position', 'value']])"
   ]
  },
  {
   "cell_type": "markdown",
   "metadata": {
    "colab_type": "text",
    "id": "2a6kdLDTL8DJ"
   },
   "source": [
    "&emsp;&emsp;Fancy indexing도 사용 가능합니다.\n",
    "\n",
    "```python\n",
    "print(samples[samples['sensor_code'] == b'ALFA'])\n",
    "```"
   ]
  },
  {
   "cell_type": "code",
   "execution_count": 65,
   "metadata": {
    "colab": {},
    "colab_type": "code",
    "id": "pOaEGliTL8DJ",
    "outputId": "4c0fe5e8-7e7a-4cfc-92c2-460ec4788d0b"
   },
   "outputs": [
    {
     "name": "stdout",
     "output_type": "stream",
     "text": [
      "[(b'ALFA', 1. , 0.37) (b'ALFA', 1.5, 0.37) (b'ALFA', 3. , 0.11)]\n"
     ]
    }
   ],
   "source": [
    "print(samples[samples['sensor_code'] == b'ALFA'])"
   ]
  },
  {
   "cell_type": "markdown",
   "metadata": {
    "colab_type": "text",
    "id": "g4PSJ76jL8DM"
   },
   "source": [
    "## 4. Advanced operations\n",
    "- __4 - 1. Polynomials__ [link](#4---1.-Polynomials)\n",
    "- __4 - 2. Loading data files__ [link](#4---2.-Loading-data-files)"
   ]
  },
  {
   "cell_type": "markdown",
   "metadata": {
    "colab_type": "text",
    "id": "WtDywtafL8DM"
   },
   "source": [
    "### 4 - 1. Polynomials\n",
    "\n",
    "- __Polynomials__\n",
    "- __More olynomials (with more bases)__"
   ]
  },
  {
   "cell_type": "markdown",
   "metadata": {
    "colab_type": "text",
    "id": "smsB9goJL8DM"
   },
   "source": [
    "- #### Polynomials\n",
    "\n",
    "&emsp;&emsp;NumPy에는 다항식도 표현 할 수 있습니다.<br>\n",
    "&emsp;&emsp;$3x^2 + 2x - 1$ 의 다항식을 np로 표현하면\n",
    "```python\n",
    "p = np.poly1d([3, 2, -1]) # p = 3x^2 + 2x - 1\n",
    "print(type(p))\n",
    "print(p(2)) # x = 2 일때, p의 값\n",
    "print(p.roots) # p = 0이 되는 x값\n",
    "print(p.order) # 최고차항의 계수\n",
    "```"
   ]
  },
  {
   "cell_type": "code",
   "execution_count": 66,
   "metadata": {
    "colab": {},
    "colab_type": "code",
    "id": "1fY9e_weL8DN",
    "outputId": "21eff175-7f13-4b27-9a6f-2f4f745fa622"
   },
   "outputs": [
    {
     "name": "stdout",
     "output_type": "stream",
     "text": [
      "<class 'numpy.poly1d'>\n",
      "15\n",
      "[-1.          0.33333333]\n",
      "2\n"
     ]
    }
   ],
   "source": [
    "p = np.poly1d([3, 2, -1]) # p = 3x^2 + 2x - 1\n",
    "print(type(p))\n",
    "print(p(2)) # x = 2 일때, p의 값\n",
    "print(p.roots) # p = 0이 되는 x값\n",
    "print(p.order) # 최고차항의 계수"
   ]
  },
  {
   "cell_type": "markdown",
   "metadata": {
    "colab_type": "text",
    "id": "UjTgacuZL8DP"
   },
   "source": [
    "&emsp;&emsp;해당 다항식을 이용해 그래프를 그릴 수 있습니다.<br>\n",
    "```python\n",
    "y = np.poly1d([3, 2, -1])\n",
    "x = np.linspace(-2, 1, 200)\n",
    "\n",
    "p = np.poly1d([0])\n",
    "\n",
    "plt.plot(x, y(x), '-', x, p(x), '-')\n",
    "plt.show()\n",
    "```"
   ]
  },
  {
   "cell_type": "code",
   "execution_count": 67,
   "metadata": {
    "colab": {},
    "colab_type": "code",
    "id": "alioVqhXL8DP",
    "outputId": "da4c20fa-d9bb-4d26-f672-4da18bbc75b2",
    "scrolled": true
   },
   "outputs": [
    {
     "data": {
      "image/png": "[encoded data removed]",
      "text/plain": [
       "<Figure size 432x288 with 1 Axes>"
      ]
     },
     "metadata": {
      "needs_background": "light"
     },
     "output_type": "display_data"
    }
   ],
   "source": [
    "y = np.poly1d([3, 2, -1])\n",
    "x = np.linspace(-2, 1, 200)\n",
    "\n",
    "p = np.poly1d([0])\n",
    "\n",
    "plt.plot(x, y(x), '-', x, p(x), '-')\n",
    "plt.show()"
   ]
  },
  {
   "cell_type": "markdown",
   "metadata": {
    "colab_type": "text",
    "id": "kSVKNnRDL8DR"
   },
   "source": [
    "- #### More polynomials (with more bases)\n",
    "\n",
    "&emsp;&emsp;NumPy는 더욱 다양한 다항식 메소드를 지원합니다. (Polynomial class)<br>\n",
    "&emsp;&emsp;$3x^2 + 2x - 1$\n",
    "\n",
    "```python\n",
    "p = np.polynomial.Polynomial([-1, 2, 3]) # Polynomial class \n",
    "print(type(p))\n",
    "print(p.roots())  # 값이 0이 되는 x값\n",
    "print(p.degree()) # 최고차항의 계수\n",
    "```"
   ]
  },
  {
   "cell_type": "code",
   "execution_count": 68,
   "metadata": {
    "colab": {},
    "colab_type": "code",
    "id": "XeiFNnfML8DS",
    "outputId": "d92a70a1-247f-4f9b-a0aa-09abd86e27ee"
   },
   "outputs": [
    {
     "name": "stdout",
     "output_type": "stream",
     "text": [
      "<class 'numpy.polynomial.polynomial.Polynomial'>\n",
      "[-1.          0.33333333]\n",
      "2\n"
     ]
    }
   ],
   "source": [
    "p = np.polynomial.Polynomial([-1, 2, 3]) # Polynomial class \n",
    "print(type(p))\n",
    "print(p.roots())  # 값이 0이 되는 x값\n",
    "print(p.degree()) # 최고차항의 계수"
   ]
  },
  {
   "cell_type": "markdown",
   "metadata": {
    "colab_type": "text",
    "id": "dlqTSTIhL8DU"
   },
   "source": [
    "### 4 - 2. Loading data files\n",
    "\n",
    "- __Text files__\n",
    "- __Images__\n",
    "- __NumPy's own format__"
   ]
  },
  {
   "cell_type": "markdown",
   "metadata": {
    "colab_type": "text",
    "id": "L3peAnWoL8DU"
   },
   "source": [
    "- #### Text files\n",
    "\n",
    "&emsp;&emsp;Text file을 불러오고 저장 할 수 있습니다.\n",
    "```python\n",
    "data = np.loadtxt('data/populations.txt')\n",
    "print(data)\n",
    "\n",
    "np.savetxt('data/pop2.txt', data) # Jupyter Notebook의 data폴더 확인\n",
    "data2 = np.loadtxt('data/pop2.txt') # 위에서 저장한 파일\n",
    "```"
   ]
  },
  {
   "cell_type": "code",
   "execution_count": 69,
   "metadata": {
    "colab": {},
    "colab_type": "code",
    "id": "Wlx67DzSL8DU",
    "outputId": "b81548dc-dcd1-415f-fc24-393d0b267750"
   },
   "outputs": [
    {
     "name": "stdout",
     "output_type": "stream",
     "text": [
      "[[ 1900. 30000.  4000. 48300.]\n",
      " [ 1901. 47200.  6100. 48200.]\n",
      " [ 1902. 70200.  9800. 41500.]\n",
      " [ 1903. 77400. 35200. 38200.]\n",
      " [ 1904. 36300. 59400. 40600.]\n",
      " [ 1905. 20600. 41700. 39800.]\n",
      " [ 1906. 18100. 19000. 38600.]\n",
      " [ 1907. 21400. 13000. 42300.]\n",
      " [ 1908. 22000.  8300. 44500.]\n",
      " [ 1909. 25400.  9100. 42100.]\n",
      " [ 1910. 27100.  7400. 46000.]\n",
      " [ 1911. 40300.  8000. 46800.]\n",
      " [ 1912. 57000. 12300. 43800.]\n",
      " [ 1913. 76600. 19500. 40900.]\n",
      " [ 1914. 52300. 45700. 39400.]\n",
      " [ 1915. 19500. 51100. 39000.]\n",
      " [ 1916. 11200. 29700. 36700.]\n",
      " [ 1917.  7600. 15800. 41800.]\n",
      " [ 1918. 14600.  9700. 43300.]\n",
      " [ 1919. 16200. 10100. 41300.]\n",
      " [ 1920. 24700.  8600. 47300.]]\n",
      "[[ 1900. 30000.  4000. 48300.]\n",
      " [ 1901. 47200.  6100. 48200.]\n",
      " [ 1902. 70200.  9800. 41500.]\n",
      " [ 1903. 77400. 35200. 38200.]\n",
      " [ 1904. 36300. 59400. 40600.]\n",
      " [ 1905. 20600. 41700. 39800.]\n",
      " [ 1906. 18100. 19000. 38600.]\n",
      " [ 1907. 21400. 13000. 42300.]\n",
      " [ 1908. 22000.  8300. 44500.]\n",
      " [ 1909. 25400.  9100. 42100.]\n",
      " [ 1910. 27100.  7400. 46000.]\n",
      " [ 1911. 40300.  8000. 46800.]\n",
      " [ 1912. 57000. 12300. 43800.]\n",
      " [ 1913. 76600. 19500. 40900.]\n",
      " [ 1914. 52300. 45700. 39400.]\n",
      " [ 1915. 19500. 51100. 39000.]\n",
      " [ 1916. 11200. 29700. 36700.]\n",
      " [ 1917.  7600. 15800. 41800.]\n",
      " [ 1918. 14600.  9700. 43300.]\n",
      " [ 1919. 16200. 10100. 41300.]\n",
      " [ 1920. 24700.  8600. 47300.]]\n"
     ]
    }
   ],
   "source": [
    "data = np.loadtxt('data/populations.txt')\n",
    "print(data)\n",
    "\n",
    "np.savetxt('data/pop2.txt', data) # Jupyter Notebook의 data폴더 확인\n",
    "data2 = np.loadtxt('data/pop2.txt') # 위에서 저장한 파일\n",
    "print(data2)"
   ]
  },
  {
   "cell_type": "markdown",
   "metadata": {
    "colab_type": "text",
    "id": "BliENWetL8DX"
   },
   "source": [
    "- #### Images\n",
    "\n",
    "&emsp;&emsp;이미지 파일을 불러오고 저장 할 수 있습니다.\n",
    "```python\n",
    "img = plt.imread('data/numpy_img.png')\n",
    "print(img.shape, img.dtype)\n",
    "\n",
    "plt.imshow(img)\n",
    "plt.savefig('data/plot.png')\n",
    "```\n",
    "\n",
    "&emsp;&emsp;해당 코드를 살펴 보면 .imread() 함수로 불러올 이미지의 path로 불러오고,<br>\n",
    "&emsp;&emsp;imshow() 함수를 이용해 이미지를 보여줍니다. "
   ]
  },
  {
   "cell_type": "code",
   "execution_count": 72,
   "metadata": {
    "colab": {},
    "colab_type": "code",
    "id": "JdZv9YxvL8DX",
    "outputId": "24686b53-d3dd-439c-e46c-ae6ea9e1998b",
    "scrolled": true
   },
   "outputs": [
    {
     "name": "stdout",
     "output_type": "stream",
     "text": [
      "(306, 765, 4) float32\n"
     ]
    },
    {
     "data": {
      "image/png": "[encoded data removed]",
      "text/plain": [
       "<Figure size 432x288 with 1 Axes>"
      ]
     },
     "metadata": {
      "needs_background": "light"
     },
     "output_type": "display_data"
    }
   ],
   "source": [
    "img = plt.imread('data/numpy_img.png')\n",
    "print(img.shape, img.dtype)\n",
    "\n",
    "plt.imshow(img)\n",
    "plt.savefig('data/plot.png')"
   ]
  },
  {
   "cell_type": "markdown",
   "metadata": {
    "colab_type": "text",
    "id": "IHcq1QbgL8DZ"
   },
   "source": [
    "&emsp;&emsp;위의 코드 실행시<br>\n",
    "&emsp;&emsp;컬러 이미지의 경우 shape에서 마지막 차원의 크기가 3인 이유는 RGB의 색을 의미합니다.<br>\n",
    "&emsp;&emsp;아래의 명령어를 이용하여 RGB색을 나타내는 차원의 값을 0으로 변경하면 흑백 이미지로 변경됩니다.<br>\n",
    "```python\n",
    "plt.imsave('data/gray_numpy_img.png', img[:,:,0], cmap=plt.cm.gray) # 흑백으로 변경 및 이미지 파일 저장\n",
    "plt.imshow(plt.imread('data/gray_numpy_img.png')) # 이미지 파일 불러오기\n",
    "```"
   ]
  },
  {
   "cell_type": "code",
   "execution_count": 73,
   "metadata": {
    "colab": {},
    "colab_type": "code",
    "id": "QhJcVntVL8DZ",
    "outputId": "00624253-2dc4-4065-f249-03cc4eb73950"
   },
   "outputs": [
    {
     "data": {
      "text/plain": [
       "<matplotlib.image.AxesImage at 0x27918fd9910>"
      ]
     },
     "execution_count": 73,
     "metadata": {},
     "output_type": "execute_result"
    },
    {
     "data": {
      "image/png": "[encoded data removed]",
      "text/plain": [
       "<Figure size 432x288 with 1 Axes>"
      ]
     },
     "metadata": {
      "needs_background": "light"
     },
     "output_type": "display_data"
    }
   ],
   "source": [
    "plt.imsave('data/gray_numpy_img.png', img[:,:,0], cmap=plt.cm.gray) # 흑백으로 변경 및 이미지 파일 저장\n",
    "plt.imshow(plt.imread('data/gray_numpy_img.png')) # 이미지 파일 불러오기"
   ]
  },
  {
   "cell_type": "markdown",
   "metadata": {
    "colab_type": "text",
    "id": "CWU79YAVL8Dc"
   },
   "source": [
    "- #### NumPy's own format\n",
    "\n",
    "&emsp;&emsp;NumPy의 전용 파일 저장 format이 존재합니다.<br>\n",
    "&emsp;&emsp;NumPy에서 지원하는 객체, 데이터를 파일로 저장할때 사용합니다.\n",
    "```python\n",
    "data = np.ones((3, 3))\n",
    "print(data)\n",
    "\n",
    "np.save('data/pop.npy', data)\n",
    "data3 = np.load('data/pop.npy')\n",
    "print(data3)\n",
    "```"
   ]
  },
  {
   "cell_type": "code",
   "execution_count": 74,
   "metadata": {
    "colab": {},
    "colab_type": "code",
    "id": "v-hSlNVCL8Dc",
    "outputId": "d0143926-ce12-4dbf-bbfb-9b24e57a2e79"
   },
   "outputs": [
    {
     "name": "stdout",
     "output_type": "stream",
     "text": [
      "[[1. 1. 1.]\n",
      " [1. 1. 1.]\n",
      " [1. 1. 1.]]\n",
      "[[1. 1. 1.]\n",
      " [1. 1. 1.]\n",
      " [1. 1. 1.]]\n"
     ]
    }
   ],
   "source": [
    "data = np.ones((3, 3))\n",
    "print(data)\n",
    "\n",
    "np.save('data/pop.npy', data)\n",
    "data3 = np.load('data/pop.npy')\n",
    "print(data3)"
   ]
  },
  {
   "cell_type": "markdown",
   "metadata": {
    "colab_type": "text",
    "id": "JAX7x6MAef8V"
   },
   "source": []
  }
 ],
 "metadata": {
  "colab": {
   "collapsed_sections": [
    "ezPqgSIEL8Ar",
    "houxGoybL8BA",
    "N-WJrPliL8BD",
    "ZYDdNNZdL8BE",
    "qCh62n1IL8BI",
    "YT3Xi4DGL8BL",
    "zBXLuJPRL8BM",
    "QQnR_VZzL8BS",
    "e5MFuGKUL8BU",
    "AwAqWhF5L8BX",
    "yrZbLuZsL8BY",
    "sKwZnuWBL8Bb",
    "wfAJ_hbIL8Bh",
    "37xJ74pmL8Bi",
    "kYooyBEmL8Bk",
    "RTgsU_zLL8Bn",
    "XVJpXOyEL8Bn",
    "eJhfSHfXL8Bq",
    "84pYd1L1L8Bt",
    "jSDxh84VL8Bu",
    "AQPBauqpL8B3",
    "8IaJ4EGpL8CN",
    "avNKKmClL8CO",
    "x0zaNjzvL8CT",
    "wfISg32ML8CZ",
    "WiiV-75YL8CZ",
    "p5Bnge3mL8Ce",
    "5nt77_riL8Cj",
    "_5sbzBDxL8Cj",
    "JWsvcj9dL8Cl",
    "Ab4PxOtIL8Co",
    "SakNs_PAL8Cr",
    "F69UiquvL8Ct",
    "YP6-K9yLL8Cv",
    "GRsr7xupL8C2",
    "OFZAV42iL8C2",
    "dgKR8WXhL8C_",
    "B84LOMdLL8DD",
    "WtDywtafL8DM",
    "smsB9goJL8DM",
    "kSVKNnRDL8DR",
    "dlqTSTIhL8DU",
    "L3peAnWoL8DU",
    "BliENWetL8DX",
    "CWU79YAVL8Dc",
    "-qr6Jpceef8R",
    "THDSHGNxef8U"
   ],
   "name": "HW02_Python&NumPy_NumPy_Exercise.ipynb",
   "provenance": []
  },
  "kernelspec": {
   "display_name": "Python 3",
   "language": "python",
   "name": "python3"
  },
  "language_info": {
   "codemirror_mode": {
    "name": "ipython",
    "version": 3
   },
   "file_extension": ".py",
   "mimetype": "text/x-python",
   "name": "python",
   "nbconvert_exporter": "python",
   "pygments_lexer": "ipython3",
   "version": "3.8.5"
  }
 },
 "nbformat": 4,
 "nbformat_minor": 4
}
